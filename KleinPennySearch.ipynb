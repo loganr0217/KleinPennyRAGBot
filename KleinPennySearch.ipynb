{
 "cells": [
  {
   "cell_type": "code",
   "execution_count": 1,
   "id": "ebfeb774-ab1c-486f-960f-8df26a30589e",
   "metadata": {},
   "outputs": [
    {
     "name": "stderr",
     "output_type": "stream",
     "text": [
      "USER_AGENT environment variable not set, consider setting it to identify your requests.\n"
     ]
    }
   ],
   "source": [
    "# Importing flask for setting up basic server\n",
    "from flask import Flask, request\n",
    "from flask_cors import CORS\n",
    "\n",
    "app = Flask(__name__)\n",
    "CORS(app)\n",
    "\n",
    "# Importing requests, BeautifulSoup for scraping property site\n",
    "import requests\n",
    "from bs4 import BeautifulSoup\n",
    "import bs4\n",
    "import getpass\n",
    "import os\n",
    "\n",
    "# Importing necessary langchain modules\n",
    "from langchain import hub\n",
    "from langchain_chroma import Chroma\n",
    "from langchain_community.document_loaders import WebBaseLoader\n",
    "from langchain_core.output_parsers import StrOutputParser\n",
    "from langchain_core.runnables import RunnablePassthrough\n",
    "from langchain_openai import OpenAIEmbeddings\n",
    "from langchain_text_splitters import RecursiveCharacterTextSplitter\n",
    "from langchain_openai import ChatOpenAI\n",
    "from langchain_pinecone import PineconeVectorStore\n",
    "from langchain.chains import create_retrieval_chain\n",
    "from langchain.chains.combine_documents import create_stuff_documents_chain\n",
    "from langchain_core.prompts import ChatPromptTemplate\n",
    "\n",
    "# Importing langsmith Client for communication\n",
    "from langsmith import Client"
   ]
  },
  {
   "cell_type": "code",
   "execution_count": 2,
   "id": "02f531d0-36a7-4f09-848c-12096a2032d0",
   "metadata": {},
   "outputs": [],
   "source": [
    "# Getting main listing page\n",
    "url = \"https://kleinpennyrentals.com/list\"\n",
    "propertyListingPage = requests.get(url)\n",
    "propertyListingSoup = BeautifulSoup(propertyListingPage.content, \"html.parser\")"
   ]
  },
  {
   "cell_type": "code",
   "execution_count": 3,
   "id": "3d825757-df60-48fd-9fae-d03dd1b4b5f9",
   "metadata": {},
   "outputs": [],
   "source": [
    "propertyLinks = []\n",
    "\n",
    "# Getting all properties in the main listing page\n",
    "properties = propertyListingSoup.find_all(\"td\", {\"class\": \"views-field-title\"})\n",
    "\n",
    "baseURL = \"https://kleinpennyrentals.com\"\n",
    "# Looping through to get each property link\n",
    "for property in properties:\n",
    "  link = property.find_all(\"a\")[0][\"href\"]\n",
    "  propertyLinks.append(baseURL + link)"
   ]
  },
  {
   "cell_type": "code",
   "execution_count": 4,
   "id": "27314208-ab1b-40fc-8aa1-091772fec592",
   "metadata": {},
   "outputs": [
    {
     "name": "stdin",
     "output_type": "stream",
     "text": [
      " ········\n",
      " ········\n",
      " ········\n"
     ]
    }
   ],
   "source": [
    "# Setting up OpenAPI key, PineCone API, LangChain API\n",
    "os.environ[\"OPENAI_API_KEY\"] = getpass.getpass()\n",
    "os.environ['PINECONE_API_KEY'] = getpass.getpass()\n",
    "os.environ[\"LANGCHAIN_API_KEY\"] = getpass.getpass() \n",
    "\n",
    "# Choosing llm model --> using 4o-mini \n",
    "llm = ChatOpenAI(model=\"gpt-4o-mini\")"
   ]
  },
  {
   "cell_type": "code",
   "execution_count": 5,
   "id": "fcc74b52-6db7-4104-88a7-314c42d1a85e",
   "metadata": {},
   "outputs": [],
   "source": [
    "# Load, chunk and index the contents of the property sites\n",
    "loader = WebBaseLoader(\n",
    "    web_paths=propertyLinks\n",
    ")"
   ]
  },
  {
   "cell_type": "code",
   "execution_count": 10,
   "id": "26970c45-325b-4fd9-9a3d-7e8e359d2890",
   "metadata": {},
   "outputs": [],
   "source": [
    "# Setting up pinecone index\n",
    "from pinecone import Pinecone, ServerlessSpec\n",
    "\n",
    "# Creates new pinecone index for openai embeddings \n",
    "def createNewIndex(indexName):\n",
    "    pinecone_index.create_index(\n",
    "        name=index_name,\n",
    "        dimension=1536, # Replace with your model dimensions\n",
    "        metric=\"cosine\", # Replace with your model metric\n",
    "        spec=ServerlessSpec(\n",
    "            cloud=\"aws\",\n",
    "            region=\"us-east-1\"\n",
    "        ) \n",
    "    )\n",
    "\n",
    "# Connecting to pinecone\n",
    "pinecone_index = Pinecone(api_key=os.environ['PINECONE_API_KEY'])\n",
    "\n",
    "index_name = \"klein-penny-index\"\n",
    "allIndexes = [i[\"name\"] for i in pinecone_index.list_indexes()]\n",
    "\n",
    "# Searching to see if user has index for klein-penny setup and setting it up if not\n",
    "if index_name not in allIndexes:\n",
    "    # Creating index in pinecone\n",
    "    createNewIndex(index_name)\n",
    "\n",
    "    # Loading documents from the sites\n",
    "    docs = loader.load()\n",
    "    \n",
    "    # Splitting the text and creating the vector store with PineCone\n",
    "    text_splitter = RecursiveCharacterTextSplitter(chunk_size=2500, chunk_overlap=200)\n",
    "    splits = text_splitter.split_documents(docs)\n",
    "    vectorstore = PineconeVectorStore.from_documents(\n",
    "        splits,\n",
    "        index_name=index_name,\n",
    "        embedding=OpenAIEmbeddings()\n",
    "    )\n",
    "# Already has an index so no need to create it\n",
    "else:\n",
    "    vectorstore = PineconeVectorStore(index_name=index_name, embedding=OpenAIEmbeddings())\n"
   ]
  },
  {
   "cell_type": "code",
   "execution_count": 11,
   "id": "875b115f-3cd8-472f-a2ef-26a16eeca3f1",
   "metadata": {},
   "outputs": [],
   "source": [
    "client = Client()"
   ]
  },
  {
   "cell_type": "code",
   "execution_count": 12,
   "id": "229ae28c-885c-424b-a66b-9bde241047c3",
   "metadata": {},
   "outputs": [],
   "source": [
    "# Retrieve and generate using the relevant snippets of the sites\n",
    "retriever = vectorstore.as_retriever(\n",
    "    search_type=\"mmr\",\n",
    "    search_kwargs={\"k\": 5, \"fetch_k\": 5, \"lambda_mult\": 0.5},\n",
    ")"
   ]
  },
  {
   "cell_type": "code",
   "execution_count": 13,
   "id": "8db98ab7-3377-40a7-b2b1-9600d88d84c2",
   "metadata": {},
   "outputs": [],
   "source": [
    "# Using custom prompt to get property info\n",
    "system_prompt = (\n",
    "    \"You are given a list of documents (each associated with a property) and their associated descriptions, titles, and other information as context. \"\n",
    "    \"Use the following pieces of retrieved context to give properties that match the user's question.\"\n",
    "    \"If you don't know the answer, say that you \"\n",
    "    \"don't know. If you use any information from the context, list its metadata in your answer.\" \n",
    "    \"\"\n",
    "    \"\\n\\n\"\n",
    "    \"Context: {context}\"\n",
    ")\n",
    "\n",
    "prompt = ChatPromptTemplate.from_messages(\n",
    "    [\n",
    "        (\"system\", system_prompt),\n",
    "        (\"human\", \"{input}\"),\n",
    "    ]\n",
    ")\n",
    "\n",
    "# Creating chain so we can grab source from context\n",
    "question_answer_chain = create_stuff_documents_chain(llm, prompt)\n",
    "rag_chain = create_retrieval_chain(retriever, question_answer_chain)"
   ]
  },
  {
   "cell_type": "code",
   "execution_count": 14,
   "id": "9e80cc41-8da1-43a5-a26d-637fc1603416",
   "metadata": {},
   "outputs": [],
   "source": [
    "response = rag_chain.invoke({\"input\": \"Find me an apartment for 3 people with hard wood floors.\"})"
   ]
  },
  {
   "cell_type": "code",
   "execution_count": 15,
   "id": "9e4cadf0-68b4-4ae4-a4b6-5946d515ecad",
   "metadata": {},
   "outputs": [
    {
     "name": "stdout",
     "output_type": "stream",
     "text": [
      "Here are two apartments that match your criteria of being suitable for 3 people and having hardwood floors:\n",
      "\n",
      "1. **20 N Congress St Apt 4**\n",
      "   - **Max Occupancy:** 3\n",
      "   - **Price:** $700 per bedroom per month\n",
      "   - **Lease:** May to May\n",
      "   - **Amenities:** Hardwood floors, 5 person hot tub, central air conditioning, ceramic tiled bath, dishwasher, large closet, lots of natural light, washer and dryer.\n",
      "   - **Available:** May 2026\n",
      "   - **Security Deposit:** $700 per person\n",
      "   - **Note:** No pets allowed.\n",
      "\n",
      "   *(Source: 20 N Congress, Apr 4)*\n",
      "\n",
      "2. **12 N Congress St Apt 6**\n",
      "   - **Max Occupancy:** 3\n",
      "   - **Price:** $566 per bedroom per month\n",
      "   - **Lease:** May to May\n",
      "   - **Amenities:** Hardwood floors, air conditioning, ceramic tiled bath, deck, dishwasher, laundry room, microwave.\n",
      "   - **Available:** May 2026\n",
      "   - **Security Deposit:** $566 per person\n",
      "   - **Note:** No pets allowed.\n",
      "\n",
      "   *(Source: 12 N Congress, Apt 6)*\n",
      "\n",
      "Both options are available for 3 people and include hardwood floors.\n",
      "\n",
      "\n",
      "You can check out more related properties here: \n",
      "20 N Congress, Apr 4: Best 3 Bed, 2 Bath Apartment in Athens: https://kleinpennyrentals.com/athens-ohio-housing/20-n-congress-st-apt-4\n",
      "33 E Carpenter, Apt B: Updated 3-Bedroom next to Court Street: https://kleinpennyrentals.com/athens-ohio-housing/33-e-carpenter-st-apt-b\n",
      "12 N Congress, Apt 4: 3 Bed Apt just Steps from Uptown Athens: https://kleinpennyrentals.com/athens-ohio-housing/12-n-congress-st-apt-4\n",
      "20 N Congress, Apt 3: 3 Bed, 2 Bath Uptown Athens Apartment: https://kleinpennyrentals.com/athens-ohio-housing/20-n-congress-st-apt-3\n",
      "12 N Congress, Apt 6: 3 Bedroom Uptown-Adjacent Athens Rental: https://kleinpennyrentals.com/athens-ohio-housing/12-n-congress-st-apt-6\n"
     ]
    }
   ],
   "source": [
    "print(response[\"answer\"])\n",
    "# response[\"context\"][0]\n",
    "print(\"\\n\\nYou can check out more related properties here: \")\n",
    "for found in response[\"context\"]:\n",
    "    print(found.metadata[\"title\"] + \": \" + found.metadata[\"source\"])"
   ]
  },
  {
   "cell_type": "code",
   "execution_count": null,
   "id": "00beb55a-9edb-4edf-a084-a3cf014f07bd",
   "metadata": {},
   "outputs": [],
   "source": [
    "# Start of testing for model\n",
    "import deepeval\n",
    "from deepeval import assert_test\n",
    "from deepeval.test_case import LLMTestCase\n",
    "from deepeval.metrics import AnswerRelevancyMetric\n",
    "\n",
    "inputs = [\n",
    "    \"Help me find a 3 bedroom apartment with a new bathroom and high ceilings.\",\n",
    "    \"Help me find an apartment that has a washer, dryer, front porch, is 600-700 a month, and has air conditioning.\",\n",
    "    \"Are there any apartments with 8 bedrooms and hard wood floors?\"\n",
    "]\n",
    "\n",
    "expected_outputs = [\n",
    "    \"12 N Congress St Apt 1, 12 N Congress St Apt 4, 12 N Congress St Apt 5\",\n",
    "    \"20 N Congress St Apt 1\",\n",
    "    \"36 W State St\"\n",
    "    \n",
    "    \n",
    "]\n",
    "\n",
    "# Running through all tests to evaluate accuracy\n",
    "tests = []\n",
    "for testIndex in range(len(inputs)):\n",
    "    # Getting response from model\n",
    "    response = rag_chain.invoke({\"input\": inputs[testIndex]})\n",
    "    currentContext = [str(i) for i in response[\"context\"]]\n",
    "    # print(response[\"answer\"])\n",
    "    test_case = LLMTestCase(\n",
    "        input=inputs[0],\n",
    "        expected_output=expected_outputs[testIndex],\n",
    "        actual_output=\" \".join([i.metadata[\"title\"] for i in response[\"context\"]]),\n",
    "        retrieval_context=currentContext\n",
    "    )\n",
    "\n",
    "    tests.append(test_case)\n"
   ]
  },
  {
   "cell_type": "code",
   "execution_count": null,
   "id": "bf52aaee-1714-42ba-8d16-70559f10a54c",
   "metadata": {},
   "outputs": [],
   "source": [
    "# Answer Relevancy -- fails on 3\n",
    "for test in tests:\n",
    "    assert_test(test, [AnswerRelevancyMetric()])"
   ]
  },
  {
   "cell_type": "code",
   "execution_count": null,
   "id": "4c85d6b3-40f5-4c71-ac25-d99097c26be2",
   "metadata": {},
   "outputs": [],
   "source": [
    "from deepeval.metrics import FaithfulnessMetric\n",
    "from deepeval.metrics import ContextualRecallMetric\n",
    "from deepeval.metrics import ContextualPrecisionMetric\n",
    "from deepeval.metrics import ContextualRelevancyMetric"
   ]
  },
  {
   "cell_type": "code",
   "execution_count": null,
   "id": "90e3933a-afe5-4a68-a7ef-c9aee6b8d8d4",
   "metadata": {},
   "outputs": [],
   "source": [
    "# Faithfulness -- all pass\n",
    "for test in tests:\n",
    "    assert_test(test, [FaithfulnessMetric()])"
   ]
  },
  {
   "cell_type": "code",
   "execution_count": null,
   "id": "c2c67d40-c1b1-40b3-9f16-fcd5461ecbf6",
   "metadata": {},
   "outputs": [],
   "source": [
    "# Contextual Recall -- fails on 3rd\n",
    "for test in tests:\n",
    "    assert_test(test, [ContextualRecallMetric()])"
   ]
  },
  {
   "cell_type": "code",
   "execution_count": null,
   "id": "3c453735-0543-4bc4-8cca-2f98a57dc187",
   "metadata": {},
   "outputs": [],
   "source": [
    "# Contextual Precisison -- fail\n",
    "for test in tests:\n",
    "    assert_test(test, [ContextualPrecisionMetric()])"
   ]
  },
  {
   "cell_type": "code",
   "execution_count": null,
   "id": "0b87e5bd-fc2c-4d07-96b0-26909db399f8",
   "metadata": {},
   "outputs": [],
   "source": [
    "# ContextualRelevancyMetric -- fail on 2\n",
    "for test in tests:\n",
    "    assert_test(test, [ContextualRelevancyMetric()])"
   ]
  },
  {
   "cell_type": "code",
   "execution_count": null,
   "id": "b1d28ec7-7b30-4650-b87c-488c36b08e3c",
   "metadata": {},
   "outputs": [],
   "source": []
  }
 ],
 "metadata": {
  "kernelspec": {
   "display_name": "Python 3 (ipykernel)",
   "language": "python",
   "name": "python3"
  },
  "language_info": {
   "codemirror_mode": {
    "name": "ipython",
    "version": 3
   },
   "file_extension": ".py",
   "mimetype": "text/x-python",
   "name": "python",
   "nbconvert_exporter": "python",
   "pygments_lexer": "ipython3",
   "version": "3.9.5"
  }
 },
 "nbformat": 4,
 "nbformat_minor": 5
}
