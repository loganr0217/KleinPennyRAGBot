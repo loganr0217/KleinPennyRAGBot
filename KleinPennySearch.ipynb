{
 "cells": [
  {
   "cell_type": "code",
   "execution_count": 1,
   "id": "ebfeb774-ab1c-486f-960f-8df26a30589e",
   "metadata": {},
   "outputs": [],
   "source": [
    "import requests\n",
    "from bs4 import BeautifulSoup"
   ]
  },
  {
   "cell_type": "code",
   "execution_count": 2,
   "id": "02f531d0-36a7-4f09-848c-12096a2032d0",
   "metadata": {},
   "outputs": [],
   "source": [
    "url = \"https://kleinpennyrentals.com/list\"\n",
    "propertyListingPage = requests.get(url)\n",
    "propertyListingSoup = BeautifulSoup(propertyListingPage.content, \"html.parser\")"
   ]
  },
  {
   "cell_type": "code",
   "execution_count": 3,
   "id": "3d825757-df60-48fd-9fae-d03dd1b4b5f9",
   "metadata": {},
   "outputs": [],
   "source": [
    "propertyLinks = []\n",
    "\n",
    "# Getting all properties in the main listing page\n",
    "properties = propertyListingSoup.find_all(\"td\", {\"class\": \"views-field-title\"})\n",
    "\n",
    "baseURL = \"https://kleinpennyrentals.com\"\n",
    "# Looping through to get each property link\n",
    "for property in properties:\n",
    "  link = property.find_all(\"a\")[0][\"href\"]\n",
    "  propertyLinks.append(baseURL + link)"
   ]
  },
  {
   "cell_type": "code",
   "execution_count": 50,
   "id": "f0e32304-7da9-4930-8e7d-7beaaccdb750",
   "metadata": {},
   "outputs": [
    {
     "data": {
      "text/plain": [
       "['https://kleinpennyrentals.com/athens-ohio-housing/12-n-congress-st-apt-7',\n",
       " 'https://kleinpennyrentals.com/athens-ohio-housing/12-n-congress-st-apt-8',\n",
       " 'https://kleinpennyrentals.com/athens-ohio-housing/2-foster-pl-apt-a',\n",
       " 'https://kleinpennyrentals.com/athens-ohio-housing/33-e-carpenter-st-apt-a',\n",
       " 'https://kleinpennyrentals.com/athens-ohio-housing/33-e-carpenter-st-apt-c',\n",
       " 'https://kleinpennyrentals.com/athens-ohio-housing/36-12-w-state-st',\n",
       " 'https://kleinpennyrentals.com/athens-ohio-housing/38-w-state-st-apt-b',\n",
       " 'https://kleinpennyrentals.com/athens-ohio-housing/47-w-washington-st-apt-1',\n",
       " 'https://kleinpennyrentals.com/athens-ohio-housing/47-w-washington-st-apt-2',\n",
       " 'https://kleinpennyrentals.com/athens-ohio-housing/47-w-washington-st-apt-3',\n",
       " 'https://kleinpennyrentals.com/athens-ohio-housing/47-w-washington-st-apt-4',\n",
       " 'https://kleinpennyrentals.com/athens-ohio-housing/47-w-washington-st-apt-5',\n",
       " 'https://kleinpennyrentals.com/athens-ohio-housing/47-w-washington-st-apt-6',\n",
       " 'https://kleinpennyrentals.com/athens-ohio-housing/47-w-washington-st-apt-7',\n",
       " 'https://kleinpennyrentals.com/athens-ohio-housing/55-w-washington-st-apt-1',\n",
       " 'https://kleinpennyrentals.com/athens-ohio-housing/74-e-state-st-apt-1',\n",
       " 'https://kleinpennyrentals.com/athens-ohio-housing/8-lash-st-apt-1',\n",
       " 'https://kleinpennyrentals.com/athens-ohio-housing/38-w-state-st-apt',\n",
       " 'https://kleinpennyrentals.com/athens-ohio-housing/74-e-state-st-apt-2',\n",
       " 'https://kleinpennyrentals.com/athens-ohio-housing/74-e-state-st-apt-3',\n",
       " 'https://kleinpennyrentals.com/athens-ohio-housing/74-e-state-st-apt-4',\n",
       " 'https://kleinpennyrentals.com/athens-ohio-housing/74-e-state-st-apt-5',\n",
       " 'https://kleinpennyrentals.com/athens-ohio-housing/74-e-state-st-apt-6',\n",
       " 'https://kleinpennyrentals.com/athens-ohio-housing/74-e-state-st-apt-7',\n",
       " 'https://kleinpennyrentals.com/athens-ohio-housing/74-e-state-st-apt-8',\n",
       " 'https://kleinpennyrentals.com/athens-ohio-housing/74-e-state-st-apt-11',\n",
       " 'https://kleinpennyrentals.com/athens-ohio-housing/74-e-state-st-apt-12',\n",
       " 'https://kleinpennyrentals.com/athens-ohio-housing/8-lash-st-apt-2',\n",
       " 'https://kleinpennyrentals.com/athens-ohio-housing/8-lash-st-apt-3',\n",
       " 'https://kleinpennyrentals.com/athens-ohio-housing/12-n-congress-st-apt-1',\n",
       " 'https://kleinpennyrentals.com/athens-ohio-housing/12-n-congress-st-apt-2',\n",
       " 'https://kleinpennyrentals.com/athens-ohio-housing/12-n-congress-st-apt-3',\n",
       " 'https://kleinpennyrentals.com/athens-ohio-housing/12-n-congress-st-apt-4',\n",
       " 'https://kleinpennyrentals.com/athens-ohio-housing/12-n-congress-st-apt-5',\n",
       " 'https://kleinpennyrentals.com/athens-ohio-housing/12-n-congress-st-apt-6',\n",
       " 'https://kleinpennyrentals.com/athens-ohio-housing/14-lash-st',\n",
       " 'https://kleinpennyrentals.com/athens-ohio-housing/14-n-congress-st',\n",
       " 'https://kleinpennyrentals.com/athens-ohio-housing/2-foster-pl-apt-c',\n",
       " 'https://kleinpennyrentals.com/athens-ohio-housing/20-n-congress-st-apt-3',\n",
       " 'https://kleinpennyrentals.com/athens-ohio-housing/20-n-congress-st-apt-4',\n",
       " 'https://kleinpennyrentals.com/athens-ohio-housing/20-n-congress-st-apt-6',\n",
       " 'https://kleinpennyrentals.com/athens-ohio-housing/33-e-carpenter-st-apt-b',\n",
       " 'https://kleinpennyrentals.com/athens-ohio-housing/55-w-washington-st-apt-3',\n",
       " 'https://kleinpennyrentals.com/athens-ohio-housing/67-franklin-ave',\n",
       " 'https://kleinpennyrentals.com/athens-ohio-housing/1-franklin-ave',\n",
       " 'https://kleinpennyrentals.com/athens-ohio-housing/2-foster-pl-apt-b',\n",
       " 'https://kleinpennyrentals.com/athens-ohio-housing/20-n-congress-st-apt-1',\n",
       " 'https://kleinpennyrentals.com/athens-ohio-housing/20-n-congress-st-apt-5',\n",
       " 'https://kleinpennyrentals.com/athens-ohio-housing/20-n-congress-st-apt-7',\n",
       " 'https://kleinpennyrentals.com/athens-ohio-housing/25-fern-st-apt-1',\n",
       " 'https://kleinpennyrentals.com/athens-ohio-housing/25-fern-st-apt-2',\n",
       " 'https://kleinpennyrentals.com/athens-ohio-housing/25-fern-st-apt-3',\n",
       " 'https://kleinpennyrentals.com/athens-ohio-housing/25-fern-st-apt-4',\n",
       " 'https://kleinpennyrentals.com/athens-ohio-housing/25-fern-st-apt-5',\n",
       " 'https://kleinpennyrentals.com/athens-ohio-housing/3-franklin-ave',\n",
       " 'https://kleinpennyrentals.com/athens-ohio-housing/32-e-carpenter-st',\n",
       " 'https://kleinpennyrentals.com/athens-ohio-housing/33-fern-st-apt-a',\n",
       " 'https://kleinpennyrentals.com/athens-ohio-housing/33-fern-st-apt-e',\n",
       " 'https://kleinpennyrentals.com/athens-ohio-housing/55-w-washington-st-apt-2',\n",
       " 'https://kleinpennyrentals.com/athens-ohio-housing/74-e-state-st-apt-2-apt-3-1-block-court-st',\n",
       " 'https://kleinpennyrentals.com/athens-ohio-housing/74-e-state-st-apt-9',\n",
       " 'https://kleinpennyrentals.com/athens-ohio-housing/8-lash-st-apt-2-apt-3',\n",
       " 'https://kleinpennyrentals.com/athens-ohio-housing/11-franklin-ave',\n",
       " 'https://kleinpennyrentals.com/athens-ohio-housing/33-fern-st-apt-b',\n",
       " 'https://kleinpennyrentals.com/athens-ohio-housing/33-fern-st-apt-c',\n",
       " 'https://kleinpennyrentals.com/athens-ohio-housing/33-fern-st-apt-d',\n",
       " 'https://kleinpennyrentals.com/athens-ohio-housing/9-franklin-ave',\n",
       " 'https://kleinpennyrentals.com/athens-ohio-housing/12-n-congress-st-apt-1-apt-2',\n",
       " 'https://kleinpennyrentals.com/athens-ohio-housing/12-n-congress-st-apt-3-apt-4',\n",
       " 'https://kleinpennyrentals.com/athens-ohio-housing/12-n-congress-st-apt-5-apt-6',\n",
       " 'https://kleinpennyrentals.com/athens-ohio-housing/2-foster-pl-apt-b-apt-c',\n",
       " 'https://kleinpennyrentals.com/athens-ohio-housing/20-n-congress-st-apt-2',\n",
       " 'https://kleinpennyrentals.com/athens-ohio-housing/55-w-washington-st-apt-2-apt-3',\n",
       " 'https://kleinpennyrentals.com/athens-ohio-housing/59-n-congress-st',\n",
       " 'https://kleinpennyrentals.com/athens-ohio-housing/32-e-carpenter-st-3-franklin-ave',\n",
       " 'https://kleinpennyrentals.com/athens-ohio-housing/36-w-state-st']"
      ]
     },
     "execution_count": 50,
     "metadata": {},
     "output_type": "execute_result"
    }
   ],
   "source": [
    "propertyLinks"
   ]
  },
  {
   "cell_type": "code",
   "execution_count": 4,
   "id": "27314208-ab1b-40fc-8aa1-091772fec592",
   "metadata": {},
   "outputs": [
    {
     "name": "stdin",
     "output_type": "stream",
     "text": [
      " ········\n"
     ]
    }
   ],
   "source": [
    "import getpass\n",
    "import os\n",
    "\n",
    "os.environ[\"OPENAI_API_KEY\"] = getpass.getpass()\n",
    "\n",
    "from langchain_openai import ChatOpenAI\n",
    "\n",
    "llm = ChatOpenAI(model=\"gpt-4o-mini\")"
   ]
  },
  {
   "cell_type": "code",
   "execution_count": 5,
   "id": "2c6dc0db-9c4e-4d73-bb3d-622acddd764b",
   "metadata": {},
   "outputs": [
    {
     "name": "stderr",
     "output_type": "stream",
     "text": [
      "USER_AGENT environment variable not set, consider setting it to identify your requests.\n"
     ]
    }
   ],
   "source": [
    "import bs4\n",
    "from langchain import hub\n",
    "from langchain_chroma import Chroma\n",
    "from langchain_community.document_loaders import WebBaseLoader\n",
    "from langchain_core.output_parsers import StrOutputParser\n",
    "from langchain_core.runnables import RunnablePassthrough\n",
    "from langchain_openai import OpenAIEmbeddings\n",
    "from langchain_text_splitters import RecursiveCharacterTextSplitter"
   ]
  },
  {
   "cell_type": "code",
   "execution_count": 6,
   "id": "fcc74b52-6db7-4104-88a7-314c42d1a85e",
   "metadata": {},
   "outputs": [],
   "source": [
    "# Load, chunk and index the contents of the blog.\n",
    "loader = WebBaseLoader(\n",
    "    web_paths=propertyLinks\n",
    ")"
   ]
  },
  {
   "cell_type": "code",
   "execution_count": 7,
   "id": "de367cd9-791c-4924-a9f0-79a2f7fd46f8",
   "metadata": {},
   "outputs": [],
   "source": [
    "docs = loader.load()"
   ]
  },
  {
   "cell_type": "code",
   "execution_count": 8,
   "id": "3c17a8b7-9255-44a0-9ca8-62d307db33e9",
   "metadata": {},
   "outputs": [],
   "source": [
    "text_splitter = RecursiveCharacterTextSplitter(chunk_size=2500, chunk_overlap=200)\n",
    "splits = text_splitter.split_documents(docs)\n",
    "vectorstore = Chroma.from_documents(documents=splits, embedding=OpenAIEmbeddings())"
   ]
  },
  {
   "cell_type": "code",
   "execution_count": 9,
   "id": "7520a2c5-2f42-4038-be91-2caf121aa56f",
   "metadata": {},
   "outputs": [
    {
     "name": "stdin",
     "output_type": "stream",
     "text": [
      " ········\n"
     ]
    }
   ],
   "source": [
    "import getpass\n",
    "from uuid import uuid4\n",
    "\n",
    "unique_id = uuid4().hex[0:8]\n",
    "os.environ[\"LANGCHAIN_TRACING_V2\"] = \"true\"\n",
    "os.environ[\"LANGCHAIN_PROJECT\"] = f\"Tracing Walkthrough - {unique_id}\"\n",
    "os.environ[\"LANGCHAIN_ENDPOINT\"] = \"https://api.smith.langchain.com\"\n",
    "os.environ[\"LANGCHAIN_API_KEY\"] = getpass.getpass()  # Update to your API key"
   ]
  },
  {
   "cell_type": "code",
   "execution_count": 10,
   "id": "875b115f-3cd8-472f-a2ef-26a16eeca3f1",
   "metadata": {},
   "outputs": [],
   "source": [
    "from langsmith import Client\n",
    "\n",
    "client = Client()\n"
   ]
  },
  {
   "cell_type": "code",
   "execution_count": 11,
   "id": "229ae28c-885c-424b-a66b-9bde241047c3",
   "metadata": {},
   "outputs": [],
   "source": [
    "# Retrieve and generate using the relevant snippets of the blog.\n",
    "retriever = vectorstore.as_retriever()\n",
    "prompt = hub.pull(\"rlm/rag-prompt\")"
   ]
  },
  {
   "cell_type": "code",
   "execution_count": 12,
   "id": "ba68cc09-3d3d-4ce4-843e-20aab23c517d",
   "metadata": {},
   "outputs": [],
   "source": [
    "def format_docs(docs):\n",
    "    return \"\\n\\n\".join(doc.page_content for doc in docs)"
   ]
  },
  {
   "cell_type": "code",
   "execution_count": 29,
   "id": "bd63fe0c-b3e7-4e59-9aea-a8c81895ebff",
   "metadata": {},
   "outputs": [],
   "source": [
    "rag_chain = (\n",
    "    {\"context\": retriever | format_docs, \"question\": RunnablePassthrough()}\n",
    "    | prompt\n",
    "    | llm\n",
    "    | StrOutputParser()\n",
    ")"
   ]
  },
  {
   "cell_type": "code",
   "execution_count": 30,
   "id": "eafc028d-e4fa-4bda-8cc5-095e4490fe3f",
   "metadata": {},
   "outputs": [
    {
     "name": "stderr",
     "output_type": "stream",
     "text": [
      "/Users/loganrichards/Desktop/KleinPennySearch/KleinPennyRAGBot/myenv/lib/python3.9/site-packages/langsmith/client.py:241: LangSmithMissingAPIKeyWarning: API key must be provided when using hosted LangSmith API\n",
      "  warnings.warn(\n",
      "Failed to multipart ingest runs: langsmith.utils.LangSmithAuthError: Authentication failed for https://api.smith.langchain.com/runs/multipart. HTTPError('401 Client Error: Unauthorized for url: https://api.smith.langchain.com/runs/multipart', '{\"detail\":\"Invalid token\"}')trace=5b542fbd-e8d5-4b8d-9b38-744fcdc53aff,id=5b542fbd-e8d5-4b8d-9b38-744fcdc53aff; trace=5b542fbd-e8d5-4b8d-9b38-744fcdc53aff,id=9eb4adca-1119-43ee-8f59-ce7545c32668; trace=5b542fbd-e8d5-4b8d-9b38-744fcdc53aff,id=4b705943-93ff-4481-bdf0-a330553414a3; trace=5b542fbd-e8d5-4b8d-9b38-744fcdc53aff,id=32c0a7f3-b0cc-4c94-89af-7e619193bee4; trace=5b542fbd-e8d5-4b8d-9b38-744fcdc53aff,id=d43a2f48-e64e-4cd2-820b-10233dd1c20f\n",
      "Failed to multipart ingest runs: langsmith.utils.LangSmithAuthError: Authentication failed for https://api.smith.langchain.com/runs/multipart. HTTPError('401 Client Error: Unauthorized for url: https://api.smith.langchain.com/runs/multipart', '{\"detail\":\"Invalid token\"}')trace=5b542fbd-e8d5-4b8d-9b38-744fcdc53aff,id=be362106-aa93-4ef3-b2d3-bbd00da9b905; trace=5b542fbd-e8d5-4b8d-9b38-744fcdc53aff,id=6dd0d0b8-b0d7-49e4-8f9a-1f01f3ddb946; trace=5b542fbd-e8d5-4b8d-9b38-744fcdc53aff,id=61c2d316-d4d9-4cc4-b542-e0b27014473f; trace=5b542fbd-e8d5-4b8d-9b38-744fcdc53aff,id=4b705943-93ff-4481-bdf0-a330553414a3; trace=5b542fbd-e8d5-4b8d-9b38-744fcdc53aff,id=32c0a7f3-b0cc-4c94-89af-7e619193bee4; trace=5b542fbd-e8d5-4b8d-9b38-744fcdc53aff,id=9eb4adca-1119-43ee-8f59-ce7545c32668\n"
     ]
    },
    {
     "data": {
      "text/plain": [
       "'A good option for a 2-bedroom apartment under $1200 a month is at 74 E State St, Apt 12, priced at $566 per bedroom, totaling $1132. This apartment features amenities like in-unit laundry, central air conditioning, and a convenient location near uptown Athens. Another option is 38 W State St, Apt A, also priced at $566 per bedroom, offering similar amenities and a prime location close to the action.'"
      ]
     },
     "execution_count": 30,
     "metadata": {},
     "output_type": "execute_result"
    },
    {
     "name": "stderr",
     "output_type": "stream",
     "text": [
      "Failed to multipart ingest runs: langsmith.utils.LangSmithAuthError: Authentication failed for https://api.smith.langchain.com/runs/multipart. HTTPError('401 Client Error: Unauthorized for url: https://api.smith.langchain.com/runs/multipart', '{\"detail\":\"Invalid token\"}')trace=5b542fbd-e8d5-4b8d-9b38-744fcdc53aff,id=1a633506-9164-4585-9245-fefa00c60ca1; trace=5b542fbd-e8d5-4b8d-9b38-744fcdc53aff,id=61c2d316-d4d9-4cc4-b542-e0b27014473f; trace=5b542fbd-e8d5-4b8d-9b38-744fcdc53aff,id=5b542fbd-e8d5-4b8d-9b38-744fcdc53aff\n",
      "Failed to multipart ingest runs: langsmith.utils.LangSmithAuthError: Authentication failed for https://api.smith.langchain.com/runs/multipart. HTTPError('401 Client Error: Unauthorized for url: https://api.smith.langchain.com/runs/multipart', '{\"detail\":\"Invalid token\"}')trace=1eb98a92-6c6f-471c-92cf-0f37dcfde450,id=1eb98a92-6c6f-471c-92cf-0f37dcfde450; trace=1eb98a92-6c6f-471c-92cf-0f37dcfde450,id=038f7ce9-2701-4776-8f29-bb9880c97cda; trace=1eb98a92-6c6f-471c-92cf-0f37dcfde450,id=06121d81-3bf5-4e8b-a114-a3e235d89d2b; trace=1eb98a92-6c6f-471c-92cf-0f37dcfde450,id=c2f8efc8-aad6-4299-8851-bd3d640a23d1; trace=1eb98a92-6c6f-471c-92cf-0f37dcfde450,id=2b30ba76-510c-49a2-9d1b-5f865ea0ad96\n",
      "Failed to multipart ingest runs: langsmith.utils.LangSmithAuthError: Authentication failed for https://api.smith.langchain.com/runs/multipart. HTTPError('401 Client Error: Unauthorized for url: https://api.smith.langchain.com/runs/multipart', '{\"detail\":\"Invalid token\"}')trace=1eb98a92-6c6f-471c-92cf-0f37dcfde450,id=c2f8efc8-aad6-4299-8851-bd3d640a23d1; trace=1eb98a92-6c6f-471c-92cf-0f37dcfde450,id=06121d81-3bf5-4e8b-a114-a3e235d89d2b; trace=1eb98a92-6c6f-471c-92cf-0f37dcfde450,id=038f7ce9-2701-4776-8f29-bb9880c97cda; trace=1eb98a92-6c6f-471c-92cf-0f37dcfde450,id=1eb98a92-6c6f-471c-92cf-0f37dcfde450\n",
      "Failed to multipart ingest runs: langsmith.utils.LangSmithAuthError: Authentication failed for https://api.smith.langchain.com/runs/multipart. HTTPError('401 Client Error: Unauthorized for url: https://api.smith.langchain.com/runs/multipart', '{\"detail\":\"Invalid token\"}')trace=d7320759-ed94-40d4-b278-41a03e5dc06d,id=d7320759-ed94-40d4-b278-41a03e5dc06d; trace=d7320759-ed94-40d4-b278-41a03e5dc06d,id=8d450043-d3f2-4d55-8182-777407ad8fae; trace=d7320759-ed94-40d4-b278-41a03e5dc06d,id=38d5ef8f-94ad-451f-91fd-1db68a753f59; trace=d7320759-ed94-40d4-b278-41a03e5dc06d,id=01ddf409-7e50-450e-bcfe-2edbb4273aec; trace=d7320759-ed94-40d4-b278-41a03e5dc06d,id=a79a777a-dfe3-459c-8e65-570b6a1327b9\n",
      "Failed to multipart ingest runs: langsmith.utils.LangSmithAuthError: Authentication failed for https://api.smith.langchain.com/runs/multipart. HTTPError('401 Client Error: Unauthorized for url: https://api.smith.langchain.com/runs/multipart', '{\"detail\":\"Invalid token\"}')trace=d7320759-ed94-40d4-b278-41a03e5dc06d,id=d4e0bcf1-f7a5-4055-b1a9-623279c96e2a; trace=d7320759-ed94-40d4-b278-41a03e5dc06d,id=cf2ee663-41d4-44e5-bd52-8df036337e9f; trace=d7320759-ed94-40d4-b278-41a03e5dc06d,id=d135d96a-4d2b-4b50-8d94-4a1a5b406097; trace=d7320759-ed94-40d4-b278-41a03e5dc06d,id=01ddf409-7e50-450e-bcfe-2edbb4273aec; trace=d7320759-ed94-40d4-b278-41a03e5dc06d,id=a79a777a-dfe3-459c-8e65-570b6a1327b9; trace=d7320759-ed94-40d4-b278-41a03e5dc06d,id=8d450043-d3f2-4d55-8182-777407ad8fae\n",
      "Failed to multipart ingest runs: langsmith.utils.LangSmithAuthError: Authentication failed for https://api.smith.langchain.com/runs/multipart. HTTPError('401 Client Error: Unauthorized for url: https://api.smith.langchain.com/runs/multipart', '{\"detail\":\"Invalid token\"}')trace=d7320759-ed94-40d4-b278-41a03e5dc06d,id=ec877770-23c4-46bb-a61a-3d7fb921e1ca; trace=d7320759-ed94-40d4-b278-41a03e5dc06d,id=d7320759-ed94-40d4-b278-41a03e5dc06d; trace=d7320759-ed94-40d4-b278-41a03e5dc06d,id=d135d96a-4d2b-4b50-8d94-4a1a5b406097\n",
      "Failed to multipart ingest runs: langsmith.utils.LangSmithAuthError: Authentication failed for https://api.smith.langchain.com/runs/multipart. HTTPError('401 Client Error: Unauthorized for url: https://api.smith.langchain.com/runs/multipart', '{\"detail\":\"Invalid token\"}')trace=fcbb8299-9153-4b09-a7fd-826c4a47e1a8,id=fcbb8299-9153-4b09-a7fd-826c4a47e1a8; trace=fcbb8299-9153-4b09-a7fd-826c4a47e1a8,id=ff52d46f-eb59-4d3a-abad-01d9dd5c0124; trace=fcbb8299-9153-4b09-a7fd-826c4a47e1a8,id=d2db3ae1-44dc-4ed1-a257-edb1ab992b8c; trace=fcbb8299-9153-4b09-a7fd-826c4a47e1a8,id=32ddeed9-c917-4780-8c70-7cc7489011f0; trace=fcbb8299-9153-4b09-a7fd-826c4a47e1a8,id=4ecef212-3155-46c0-b7cf-aee9dddbfdc9\n",
      "Failed to multipart ingest runs: langsmith.utils.LangSmithAuthError: Authentication failed for https://api.smith.langchain.com/runs/multipart. HTTPError('401 Client Error: Unauthorized for url: https://api.smith.langchain.com/runs/multipart', '{\"detail\":\"Invalid token\"}')trace=fcbb8299-9153-4b09-a7fd-826c4a47e1a8,id=594e17d3-98e8-406a-80ee-f9424bac40ca; trace=fcbb8299-9153-4b09-a7fd-826c4a47e1a8,id=cc649867-ec18-4f61-a748-4c47821b3739; trace=fcbb8299-9153-4b09-a7fd-826c4a47e1a8,id=3656419e-5980-45eb-a6da-7e066514a351; trace=fcbb8299-9153-4b09-a7fd-826c4a47e1a8,id=d2db3ae1-44dc-4ed1-a257-edb1ab992b8c; trace=fcbb8299-9153-4b09-a7fd-826c4a47e1a8,id=4ecef212-3155-46c0-b7cf-aee9dddbfdc9; trace=fcbb8299-9153-4b09-a7fd-826c4a47e1a8,id=ff52d46f-eb59-4d3a-abad-01d9dd5c0124\n",
      "Failed to multipart ingest runs: langsmith.utils.LangSmithAuthError: Authentication failed for https://api.smith.langchain.com/runs/multipart. HTTPError('401 Client Error: Unauthorized for url: https://api.smith.langchain.com/runs/multipart', '{\"detail\":\"Invalid token\"}')trace=fcbb8299-9153-4b09-a7fd-826c4a47e1a8,id=29c45005-7300-45eb-b2b7-9bd3b21a8892; trace=fcbb8299-9153-4b09-a7fd-826c4a47e1a8,id=fcbb8299-9153-4b09-a7fd-826c4a47e1a8; trace=fcbb8299-9153-4b09-a7fd-826c4a47e1a8,id=3656419e-5980-45eb-a6da-7e066514a351\n",
      "Failed to multipart ingest runs: langsmith.utils.LangSmithAuthError: Authentication failed for https://api.smith.langchain.com/runs/multipart. HTTPError('401 Client Error: Unauthorized for url: https://api.smith.langchain.com/runs/multipart', '{\"detail\":\"Invalid token\"}')trace=16dac0a6-d1f9-4247-964f-d2fbcdd6eb14,id=16dac0a6-d1f9-4247-964f-d2fbcdd6eb14; trace=16dac0a6-d1f9-4247-964f-d2fbcdd6eb14,id=9bba4605-9f63-4cb3-b871-d97d8a90a0c7; trace=16dac0a6-d1f9-4247-964f-d2fbcdd6eb14,id=7f49c348-8e3e-4ac9-9c6d-64a10bb713ea; trace=16dac0a6-d1f9-4247-964f-d2fbcdd6eb14,id=1ff3cfea-1bcb-4402-a9f6-39104ee72ea7; trace=16dac0a6-d1f9-4247-964f-d2fbcdd6eb14,id=da821fa4-901a-4062-ba1c-885aafd68727\n",
      "Failed to multipart ingest runs: langsmith.utils.LangSmithAuthError: Authentication failed for https://api.smith.langchain.com/runs/multipart. HTTPError('401 Client Error: Unauthorized for url: https://api.smith.langchain.com/runs/multipart', '{\"detail\":\"Invalid token\"}')trace=16dac0a6-d1f9-4247-964f-d2fbcdd6eb14,id=afe61a20-698c-4eaf-8709-f87f29f6283f; trace=16dac0a6-d1f9-4247-964f-d2fbcdd6eb14,id=35d59621-9e4e-4e9b-b853-1ba7daa537a4; trace=16dac0a6-d1f9-4247-964f-d2fbcdd6eb14,id=46ad04f9-4fce-4b6c-8f5e-1fabc95a1b4b; trace=16dac0a6-d1f9-4247-964f-d2fbcdd6eb14,id=9bba4605-9f63-4cb3-b871-d97d8a90a0c7; trace=16dac0a6-d1f9-4247-964f-d2fbcdd6eb14,id=7f49c348-8e3e-4ac9-9c6d-64a10bb713ea; trace=16dac0a6-d1f9-4247-964f-d2fbcdd6eb14,id=1ff3cfea-1bcb-4402-a9f6-39104ee72ea7\n",
      "Failed to multipart ingest runs: langsmith.utils.LangSmithAuthError: Authentication failed for https://api.smith.langchain.com/runs/multipart. HTTPError('401 Client Error: Unauthorized for url: https://api.smith.langchain.com/runs/multipart', '{\"detail\":\"Invalid token\"}')trace=16dac0a6-d1f9-4247-964f-d2fbcdd6eb14,id=e63a16fb-464e-4412-9416-40d1b7f2f692; trace=16dac0a6-d1f9-4247-964f-d2fbcdd6eb14,id=46ad04f9-4fce-4b6c-8f5e-1fabc95a1b4b; trace=16dac0a6-d1f9-4247-964f-d2fbcdd6eb14,id=16dac0a6-d1f9-4247-964f-d2fbcdd6eb14\n",
      "Failed to multipart ingest runs: langsmith.utils.LangSmithAuthError: Authentication failed for https://api.smith.langchain.com/runs/multipart. HTTPError('401 Client Error: Unauthorized for url: https://api.smith.langchain.com/runs/multipart', '{\"detail\":\"Invalid token\"}')trace=00e78c9d-9279-4893-b8b1-2c29739e371c,id=00e78c9d-9279-4893-b8b1-2c29739e371c; trace=00e78c9d-9279-4893-b8b1-2c29739e371c,id=ee470a7b-3388-493a-abc7-f0497cd87093; trace=00e78c9d-9279-4893-b8b1-2c29739e371c,id=7ce25bc5-18e8-4294-bb18-887d2e7688cf; trace=00e78c9d-9279-4893-b8b1-2c29739e371c,id=d61be6cc-d5c7-4c69-abd1-5f37b7148299; trace=00e78c9d-9279-4893-b8b1-2c29739e371c,id=4e426314-1774-4183-accb-ee2995deaf65\n",
      "Failed to multipart ingest runs: langsmith.utils.LangSmithAuthError: Authentication failed for https://api.smith.langchain.com/runs/multipart. HTTPError('401 Client Error: Unauthorized for url: https://api.smith.langchain.com/runs/multipart', '{\"detail\":\"Invalid token\"}')trace=00e78c9d-9279-4893-b8b1-2c29739e371c,id=ffdb051e-ee67-46c1-a68a-816ba6090631; trace=00e78c9d-9279-4893-b8b1-2c29739e371c,id=f3cd2382-bbec-4e6c-a765-cfbb0b82f8f2; trace=00e78c9d-9279-4893-b8b1-2c29739e371c,id=9454048e-ee16-4861-a08b-24727616f103; trace=00e78c9d-9279-4893-b8b1-2c29739e371c,id=37941b29-34f1-41fa-bb28-ef55cb10861f; trace=00e78c9d-9279-4893-b8b1-2c29739e371c,id=d61be6cc-d5c7-4c69-abd1-5f37b7148299; trace=00e78c9d-9279-4893-b8b1-2c29739e371c,id=4e426314-1774-4183-accb-ee2995deaf65; trace=00e78c9d-9279-4893-b8b1-2c29739e371c,id=ee470a7b-3388-493a-abc7-f0497cd87093\n",
      "Failed to multipart ingest runs: langsmith.utils.LangSmithAuthError: Authentication failed for https://api.smith.langchain.com/runs/multipart. HTTPError('401 Client Error: Unauthorized for url: https://api.smith.langchain.com/runs/multipart', '{\"detail\":\"Invalid token\"}')trace=00e78c9d-9279-4893-b8b1-2c29739e371c,id=c751deb7-2eb5-43da-80c8-9e385753190b; trace=00e78c9d-9279-4893-b8b1-2c29739e371c,id=00e78c9d-9279-4893-b8b1-2c29739e371c; trace=00e78c9d-9279-4893-b8b1-2c29739e371c,id=37941b29-34f1-41fa-bb28-ef55cb10861f\n",
      "Failed to multipart ingest runs: langsmith.utils.LangSmithAuthError: Authentication failed for https://api.smith.langchain.com/runs/multipart. HTTPError('401 Client Error: Unauthorized for url: https://api.smith.langchain.com/runs/multipart', '{\"detail\":\"Invalid token\"}')trace=7daf8761-d3ed-4871-a1a5-808c47484972,id=7daf8761-d3ed-4871-a1a5-808c47484972; trace=7daf8761-d3ed-4871-a1a5-808c47484972,id=1edc2eb1-7912-4bd9-af84-f2f7de70b2c3; trace=7daf8761-d3ed-4871-a1a5-808c47484972,id=88f65611-e544-492d-90a2-40508a3e5c4c; trace=7daf8761-d3ed-4871-a1a5-808c47484972,id=7e0966f8-afb8-4240-999d-68107efcd639; trace=7daf8761-d3ed-4871-a1a5-808c47484972,id=ca02ca69-406c-474e-854a-73c855bf794f\n",
      "Failed to multipart ingest runs: langsmith.utils.LangSmithAuthError: Authentication failed for https://api.smith.langchain.com/runs/multipart. HTTPError('401 Client Error: Unauthorized for url: https://api.smith.langchain.com/runs/multipart', '{\"detail\":\"Invalid token\"}')trace=96b9882a-4637-45ac-b6f8-0a5967d07c74,id=96b9882a-4637-45ac-b6f8-0a5967d07c74; trace=96b9882a-4637-45ac-b6f8-0a5967d07c74,id=e59eab50-2b66-4b1c-bef5-727c312e21c1; trace=96b9882a-4637-45ac-b6f8-0a5967d07c74,id=00a947ec-668e-495d-879c-b3de07d9a863; trace=96b9882a-4637-45ac-b6f8-0a5967d07c74,id=a9a0334a-48ce-4984-9f89-efc105eb0461; trace=96b9882a-4637-45ac-b6f8-0a5967d07c74,id=54c5cdee-fa35-480d-b06b-6a9018c0633f\n",
      "Failed to multipart ingest runs: langsmith.utils.LangSmithAuthError: Authentication failed for https://api.smith.langchain.com/runs/multipart. HTTPError('401 Client Error: Unauthorized for url: https://api.smith.langchain.com/runs/multipart', '{\"detail\":\"Invalid token\"}')trace=96b9882a-4637-45ac-b6f8-0a5967d07c74,id=9ffdf6b8-0e05-46eb-bbae-1079913bcb26; trace=96b9882a-4637-45ac-b6f8-0a5967d07c74,id=63181c4f-8594-4b76-b98d-6f4ef96f11da; trace=96b9882a-4637-45ac-b6f8-0a5967d07c74,id=c96c8b75-fbaa-45ef-a262-40445424a952; trace=96b9882a-4637-45ac-b6f8-0a5967d07c74,id=9ef865ca-028f-439f-ad95-f558d5cca476; trace=96b9882a-4637-45ac-b6f8-0a5967d07c74,id=00a947ec-668e-495d-879c-b3de07d9a863; trace=96b9882a-4637-45ac-b6f8-0a5967d07c74,id=a9a0334a-48ce-4984-9f89-efc105eb0461; trace=96b9882a-4637-45ac-b6f8-0a5967d07c74,id=e59eab50-2b66-4b1c-bef5-727c312e21c1\n",
      "Failed to multipart ingest runs: langsmith.utils.LangSmithAuthError: Authentication failed for https://api.smith.langchain.com/runs/multipart. HTTPError('401 Client Error: Unauthorized for url: https://api.smith.langchain.com/runs/multipart', '{\"detail\":\"Invalid token\"}')trace=96b9882a-4637-45ac-b6f8-0a5967d07c74,id=0e449b5f-86d5-46b0-bfca-b526e8a20d7d; trace=96b9882a-4637-45ac-b6f8-0a5967d07c74,id=9ef865ca-028f-439f-ad95-f558d5cca476; trace=96b9882a-4637-45ac-b6f8-0a5967d07c74,id=96b9882a-4637-45ac-b6f8-0a5967d07c74\n",
      "Failed to multipart ingest runs: langsmith.utils.LangSmithAuthError: Authentication failed for https://api.smith.langchain.com/runs/multipart. HTTPError('401 Client Error: Unauthorized for url: https://api.smith.langchain.com/runs/multipart', '{\"detail\":\"Invalid token\"}')trace=c12711b0-e2fd-4a2a-9c4f-78ae39341b24,id=c12711b0-e2fd-4a2a-9c4f-78ae39341b24; trace=c12711b0-e2fd-4a2a-9c4f-78ae39341b24,id=d13e6ebf-a79a-4d83-9398-91acb2ee61cf; trace=c12711b0-e2fd-4a2a-9c4f-78ae39341b24,id=c2e6b07b-8ba2-48c1-99f1-328b2f814e7a; trace=c12711b0-e2fd-4a2a-9c4f-78ae39341b24,id=db0b2234-3600-41f9-bc70-3556caf1fc93; trace=c12711b0-e2fd-4a2a-9c4f-78ae39341b24,id=703fd6fa-9001-4b6b-b337-2b8bf60ebc51; trace=c12711b0-e2fd-4a2a-9c4f-78ae39341b24,id=8e30f907-3587-420e-ad4e-789b81e7717d\n",
      "Failed to multipart ingest runs: langsmith.utils.LangSmithAuthError: Authentication failed for https://api.smith.langchain.com/runs/multipart. HTTPError('401 Client Error: Unauthorized for url: https://api.smith.langchain.com/runs/multipart', '{\"detail\":\"Invalid token\"}')trace=c12711b0-e2fd-4a2a-9c4f-78ae39341b24,id=cd21fd14-d58b-4b30-a482-1f053edae32d; trace=c12711b0-e2fd-4a2a-9c4f-78ae39341b24,id=4fbbfed5-5278-4a3a-b920-0bcc1dba4b8f; trace=c12711b0-e2fd-4a2a-9c4f-78ae39341b24,id=84dfa1bf-fe01-45d7-8d8c-b2c5eca3b35c; trace=c12711b0-e2fd-4a2a-9c4f-78ae39341b24,id=e1507360-fb7e-4e76-97e3-b6b25e0f4d1b; trace=c12711b0-e2fd-4a2a-9c4f-78ae39341b24,id=436eda01-20d8-4fd7-9794-caf59a122491; trace=c12711b0-e2fd-4a2a-9c4f-78ae39341b24,id=a10e624e-46e5-4f8d-9c1c-ee3f7e9d6333; trace=c12711b0-e2fd-4a2a-9c4f-78ae39341b24,id=01713276-40d3-488b-887f-2d7a2462a9e4; trace=c12711b0-e2fd-4a2a-9c4f-78ae39341b24,id=266cc3ec-34d3-4a56-a996-9e830137e0b0; trace=c12711b0-e2fd-4a2a-9c4f-78ae39341b24,id=db0b2234-3600-41f9-bc70-3556caf1fc93; trace=c12711b0-e2fd-4a2a-9c4f-78ae39341b24,id=8e30f907-3587-420e-ad4e-789b81e7717d; trace=c12711b0-e2fd-4a2a-9c4f-78ae39341b24,id=d13e6ebf-a79a-4d83-9398-91acb2ee61cf; trace=c12711b0-e2fd-4a2a-9c4f-78ae39341b24,id=c2e6b07b-8ba2-48c1-99f1-328b2f814e7a\n",
      "Failed to multipart ingest runs: langsmith.utils.LangSmithAuthError: Authentication failed for https://api.smith.langchain.com/runs/multipart. HTTPError('401 Client Error: Unauthorized for url: https://api.smith.langchain.com/runs/multipart', '{\"detail\":\"Invalid token\"}')trace=c12711b0-e2fd-4a2a-9c4f-78ae39341b24,id=b5e39678-caef-4c75-a432-50b51b6209d2; trace=c12711b0-e2fd-4a2a-9c4f-78ae39341b24,id=84dfa1bf-fe01-45d7-8d8c-b2c5eca3b35c; trace=c12711b0-e2fd-4a2a-9c4f-78ae39341b24,id=266cc3ec-34d3-4a56-a996-9e830137e0b0; trace=c12711b0-e2fd-4a2a-9c4f-78ae39341b24,id=c12711b0-e2fd-4a2a-9c4f-78ae39341b24; trace=c12711b0-e2fd-4a2a-9c4f-78ae39341b24,id=cd21fd14-d58b-4b30-a482-1f053edae32d; trace=c12711b0-e2fd-4a2a-9c4f-78ae39341b24,id=4fbbfed5-5278-4a3a-b920-0bcc1dba4b8f\n",
      "Failed to multipart ingest runs: langsmith.utils.LangSmithAuthError: Authentication failed for https://api.smith.langchain.com/runs/multipart. HTTPError('401 Client Error: Unauthorized for url: https://api.smith.langchain.com/runs/multipart', '{\"detail\":\"Invalid token\"}')trace=37dfbeac-7fb7-415f-a1e9-c671535f1b7e,id=37dfbeac-7fb7-415f-a1e9-c671535f1b7e; trace=37dfbeac-7fb7-415f-a1e9-c671535f1b7e,id=a5d1cdd7-6964-412a-a034-b3ab8ca54d5a; trace=37dfbeac-7fb7-415f-a1e9-c671535f1b7e,id=49039e8e-4bd4-459f-90b2-ab21fb7795a2; trace=37dfbeac-7fb7-415f-a1e9-c671535f1b7e,id=8650d6c9-f997-4cb3-9b74-1b897cb8b97b; trace=37dfbeac-7fb7-415f-a1e9-c671535f1b7e,id=5ae49037-3266-429c-9817-11174cd4e19d; trace=37dfbeac-7fb7-415f-a1e9-c671535f1b7e,id=36f827c9-a1b6-4a3d-97c9-e0a47175bc59\n",
      "Failed to multipart ingest runs: langsmith.utils.LangSmithAuthError: Authentication failed for https://api.smith.langchain.com/runs/multipart. HTTPError('401 Client Error: Unauthorized for url: https://api.smith.langchain.com/runs/multipart', '{\"detail\":\"Invalid token\"}')trace=37dfbeac-7fb7-415f-a1e9-c671535f1b7e,id=20902056-6bfc-4a3b-b7b9-f35b609ba5b4; trace=37dfbeac-7fb7-415f-a1e9-c671535f1b7e,id=4883160a-74af-42c3-9fb0-44149d25ad54; trace=37dfbeac-7fb7-415f-a1e9-c671535f1b7e,id=99db4f63-964a-4d72-84fa-ef13a82200af; trace=37dfbeac-7fb7-415f-a1e9-c671535f1b7e,id=340be1ab-d70a-431d-93f8-3dbf69aeb673; trace=37dfbeac-7fb7-415f-a1e9-c671535f1b7e,id=0fb3eddd-63d3-4b02-a876-819998b25dc4; trace=37dfbeac-7fb7-415f-a1e9-c671535f1b7e,id=5d6c05b6-33bf-4cc1-b9d1-7abe437e30d9; trace=37dfbeac-7fb7-415f-a1e9-c671535f1b7e,id=7dd952b1-e21a-4e80-aa94-ed957739fe9c; trace=37dfbeac-7fb7-415f-a1e9-c671535f1b7e,id=8934b84f-d9fd-406c-ac03-cab6d0172565; trace=37dfbeac-7fb7-415f-a1e9-c671535f1b7e,id=8650d6c9-f997-4cb3-9b74-1b897cb8b97b; trace=37dfbeac-7fb7-415f-a1e9-c671535f1b7e,id=36f827c9-a1b6-4a3d-97c9-e0a47175bc59; trace=37dfbeac-7fb7-415f-a1e9-c671535f1b7e,id=a5d1cdd7-6964-412a-a034-b3ab8ca54d5a; trace=37dfbeac-7fb7-415f-a1e9-c671535f1b7e,id=49039e8e-4bd4-459f-90b2-ab21fb7795a2\n",
      "Failed to multipart ingest runs: langsmith.utils.LangSmithAuthError: Authentication failed for https://api.smith.langchain.com/runs/multipart. HTTPError('401 Client Error: Unauthorized for url: https://api.smith.langchain.com/runs/multipart', '{\"detail\":\"Invalid token\"}')trace=37dfbeac-7fb7-415f-a1e9-c671535f1b7e,id=e368b915-6279-45ec-8e52-48dc5a80c206; trace=37dfbeac-7fb7-415f-a1e9-c671535f1b7e,id=99db4f63-964a-4d72-84fa-ef13a82200af; trace=37dfbeac-7fb7-415f-a1e9-c671535f1b7e,id=8934b84f-d9fd-406c-ac03-cab6d0172565; trace=37dfbeac-7fb7-415f-a1e9-c671535f1b7e,id=37dfbeac-7fb7-415f-a1e9-c671535f1b7e; trace=37dfbeac-7fb7-415f-a1e9-c671535f1b7e,id=20902056-6bfc-4a3b-b7b9-f35b609ba5b4; trace=37dfbeac-7fb7-415f-a1e9-c671535f1b7e,id=4883160a-74af-42c3-9fb0-44149d25ad54\n",
      "Failed to multipart ingest runs: langsmith.utils.LangSmithAuthError: Authentication failed for https://api.smith.langchain.com/runs/multipart. HTTPError('401 Client Error: Unauthorized for url: https://api.smith.langchain.com/runs/multipart', '{\"detail\":\"Invalid token\"}')trace=f9f5a8c1-25ca-45c7-9860-eaeea479677f,id=f9f5a8c1-25ca-45c7-9860-eaeea479677f; trace=f9f5a8c1-25ca-45c7-9860-eaeea479677f,id=8d4e3d90-6ace-4c62-9c19-ec4e6da603ae; trace=f9f5a8c1-25ca-45c7-9860-eaeea479677f,id=a514ddd0-0827-4e43-bc1f-538a58be93e8; trace=f9f5a8c1-25ca-45c7-9860-eaeea479677f,id=b29ce4f5-8a57-4d0d-ae56-440c9bd5819d; trace=f9f5a8c1-25ca-45c7-9860-eaeea479677f,id=4c26c50f-a14b-4788-bf79-195cc31d79bc; trace=f9f5a8c1-25ca-45c7-9860-eaeea479677f,id=134f7090-d085-4db6-b0d5-92669fbed8aa\n",
      "Failed to multipart ingest runs: langsmith.utils.LangSmithAuthError: Authentication failed for https://api.smith.langchain.com/runs/multipart. HTTPError('401 Client Error: Unauthorized for url: https://api.smith.langchain.com/runs/multipart', '{\"detail\":\"Invalid token\"}')trace=f9f5a8c1-25ca-45c7-9860-eaeea479677f,id=aa60d687-075d-4380-9a47-afd84be43c85; trace=f9f5a8c1-25ca-45c7-9860-eaeea479677f,id=821bc78d-3510-4cfe-b988-ff83dbbae894; trace=f9f5a8c1-25ca-45c7-9860-eaeea479677f,id=968c949c-265a-413e-bc91-a9a0d83d049f; trace=f9f5a8c1-25ca-45c7-9860-eaeea479677f,id=61bafe6e-d7ec-4821-99ce-b486741f23a9; trace=f9f5a8c1-25ca-45c7-9860-eaeea479677f,id=8f120de7-b6af-4827-89ef-fa3ea244bae8; trace=f9f5a8c1-25ca-45c7-9860-eaeea479677f,id=70b5870b-152e-42f3-b1f9-901b287fee92; trace=f9f5a8c1-25ca-45c7-9860-eaeea479677f,id=7231a1a1-4695-43e0-a2d8-5d4fc07f553a; trace=f9f5a8c1-25ca-45c7-9860-eaeea479677f,id=95edeeec-0cdd-4b1f-90a5-b0805013f921; trace=f9f5a8c1-25ca-45c7-9860-eaeea479677f,id=8d4e3d90-6ace-4c62-9c19-ec4e6da603ae; trace=f9f5a8c1-25ca-45c7-9860-eaeea479677f,id=a514ddd0-0827-4e43-bc1f-538a58be93e8; trace=f9f5a8c1-25ca-45c7-9860-eaeea479677f,id=b29ce4f5-8a57-4d0d-ae56-440c9bd5819d; trace=f9f5a8c1-25ca-45c7-9860-eaeea479677f,id=134f7090-d085-4db6-b0d5-92669fbed8aa\n",
      "Failed to multipart ingest runs: langsmith.utils.LangSmithAuthError: Authentication failed for https://api.smith.langchain.com/runs/multipart. HTTPError('401 Client Error: Unauthorized for url: https://api.smith.langchain.com/runs/multipart', '{\"detail\":\"Invalid token\"}')trace=f9f5a8c1-25ca-45c7-9860-eaeea479677f,id=bf844188-a16b-4cd1-8696-486a4aeb62f9; trace=f9f5a8c1-25ca-45c7-9860-eaeea479677f,id=95edeeec-0cdd-4b1f-90a5-b0805013f921; trace=f9f5a8c1-25ca-45c7-9860-eaeea479677f,id=968c949c-265a-413e-bc91-a9a0d83d049f; trace=f9f5a8c1-25ca-45c7-9860-eaeea479677f,id=f9f5a8c1-25ca-45c7-9860-eaeea479677f; trace=f9f5a8c1-25ca-45c7-9860-eaeea479677f,id=aa60d687-075d-4380-9a47-afd84be43c85; trace=f9f5a8c1-25ca-45c7-9860-eaeea479677f,id=821bc78d-3510-4cfe-b988-ff83dbbae894\n",
      "Failed to multipart ingest runs: langsmith.utils.LangSmithAuthError: Authentication failed for https://api.smith.langchain.com/runs/multipart. HTTPError('401 Client Error: Unauthorized for url: https://api.smith.langchain.com/runs/multipart', '{\"detail\":\"Invalid token\"}')trace=e27d2def-68d1-4b83-99a1-8a24cf134af1,id=e27d2def-68d1-4b83-99a1-8a24cf134af1; trace=e27d2def-68d1-4b83-99a1-8a24cf134af1,id=0586169f-c1c2-4aa9-805e-4058e3d18046; trace=e27d2def-68d1-4b83-99a1-8a24cf134af1,id=d17fc099-2934-4443-a531-1c556e6fae64; trace=e27d2def-68d1-4b83-99a1-8a24cf134af1,id=431e0166-2dce-4338-bc73-b73a5fc676c3; trace=e27d2def-68d1-4b83-99a1-8a24cf134af1,id=f5de400d-5910-4e26-bc41-40c8c6d15aa1; trace=e27d2def-68d1-4b83-99a1-8a24cf134af1,id=da62e797-4a60-47ce-9808-800655f908af\n",
      "Failed to multipart ingest runs: langsmith.utils.LangSmithAuthError: Authentication failed for https://api.smith.langchain.com/runs/multipart. HTTPError('401 Client Error: Unauthorized for url: https://api.smith.langchain.com/runs/multipart', '{\"detail\":\"Invalid token\"}')trace=e27d2def-68d1-4b83-99a1-8a24cf134af1,id=27a3184e-a9e8-4a19-ac4a-9a16f953c59e; trace=e27d2def-68d1-4b83-99a1-8a24cf134af1,id=fdb7c7c8-c565-4647-9cc7-b7d78e207b69; trace=e27d2def-68d1-4b83-99a1-8a24cf134af1,id=a328239d-9ee7-4694-a9ca-945d134a5765; trace=e27d2def-68d1-4b83-99a1-8a24cf134af1,id=f9671d0b-0822-4fe2-ae8f-9bcd72ecf722; trace=e27d2def-68d1-4b83-99a1-8a24cf134af1,id=3d638e40-0f5a-4ed1-b0bf-697718892093; trace=e27d2def-68d1-4b83-99a1-8a24cf134af1,id=3e41ee54-b5b3-42ad-a3c9-3456ca393e07; trace=e27d2def-68d1-4b83-99a1-8a24cf134af1,id=da20b5d9-8552-4c8f-bee8-87c0b3688b88; trace=e27d2def-68d1-4b83-99a1-8a24cf134af1,id=28298e31-aa86-48b7-b46b-96ef866d2c25; trace=e27d2def-68d1-4b83-99a1-8a24cf134af1,id=431e0166-2dce-4338-bc73-b73a5fc676c3; trace=e27d2def-68d1-4b83-99a1-8a24cf134af1,id=da62e797-4a60-47ce-9808-800655f908af; trace=e27d2def-68d1-4b83-99a1-8a24cf134af1,id=0586169f-c1c2-4aa9-805e-4058e3d18046; trace=e27d2def-68d1-4b83-99a1-8a24cf134af1,id=d17fc099-2934-4443-a531-1c556e6fae64\n",
      "Failed to multipart ingest runs: langsmith.utils.LangSmithAuthError: Authentication failed for https://api.smith.langchain.com/runs/multipart. HTTPError('401 Client Error: Unauthorized for url: https://api.smith.langchain.com/runs/multipart', '{\"detail\":\"Invalid token\"}')trace=e27d2def-68d1-4b83-99a1-8a24cf134af1,id=588f0f5d-39f7-4a4e-93ef-f6f96b9bdac7; trace=e27d2def-68d1-4b83-99a1-8a24cf134af1,id=28298e31-aa86-48b7-b46b-96ef866d2c25; trace=e27d2def-68d1-4b83-99a1-8a24cf134af1,id=e27d2def-68d1-4b83-99a1-8a24cf134af1; trace=e27d2def-68d1-4b83-99a1-8a24cf134af1,id=27a3184e-a9e8-4a19-ac4a-9a16f953c59e; trace=e27d2def-68d1-4b83-99a1-8a24cf134af1,id=fdb7c7c8-c565-4647-9cc7-b7d78e207b69; trace=e27d2def-68d1-4b83-99a1-8a24cf134af1,id=a328239d-9ee7-4694-a9ca-945d134a5765\n",
      "Failed to multipart ingest runs: langsmith.utils.LangSmithAuthError: Authentication failed for https://api.smith.langchain.com/runs/multipart. HTTPError('401 Client Error: Unauthorized for url: https://api.smith.langchain.com/runs/multipart', '{\"detail\":\"Invalid token\"}')trace=d844b3ca-3854-4550-97bf-c836d216203d,id=d844b3ca-3854-4550-97bf-c836d216203d; trace=d844b3ca-3854-4550-97bf-c836d216203d,id=760ece47-d4ad-4410-8d85-7d09fcebd38a; trace=d844b3ca-3854-4550-97bf-c836d216203d,id=764b7d18-d44b-4c13-a9e5-c6ce80dbec65; trace=d844b3ca-3854-4550-97bf-c836d216203d,id=301464d5-6e80-4742-baea-a5b7a3ad0e56; trace=d844b3ca-3854-4550-97bf-c836d216203d,id=ffcfdfff-daab-46aa-9f96-58f271511da1; trace=d844b3ca-3854-4550-97bf-c836d216203d,id=22007a9d-4917-4d9c-b83b-b7792a20e2b7\n",
      "Failed to multipart ingest runs: langsmith.utils.LangSmithAuthError: Authentication failed for https://api.smith.langchain.com/runs/multipart. HTTPError('401 Client Error: Unauthorized for url: https://api.smith.langchain.com/runs/multipart', '{\"detail\":\"Invalid token\"}')trace=d844b3ca-3854-4550-97bf-c836d216203d,id=42364660-c1d2-4d53-8e38-1eae35d64704; trace=d844b3ca-3854-4550-97bf-c836d216203d,id=eee40f8c-1932-40c5-9f36-ac656a500b9b; trace=d844b3ca-3854-4550-97bf-c836d216203d,id=41e77a6a-ec41-4474-83e2-82fd61139369; trace=d844b3ca-3854-4550-97bf-c836d216203d,id=5d63ff62-9679-4adc-a386-ca32e60e0b07; trace=d844b3ca-3854-4550-97bf-c836d216203d,id=671b9976-8e7f-4280-b8a2-b7fd16102fb0; trace=d844b3ca-3854-4550-97bf-c836d216203d,id=5d2fafd9-c8b3-4e65-9047-54e942c92838; trace=d844b3ca-3854-4550-97bf-c836d216203d,id=2f754d8a-2e9a-495e-be7f-e0950b5c18fc; trace=d844b3ca-3854-4550-97bf-c836d216203d,id=80b5c860-48d0-4e7e-9dae-53067730db5a; trace=d844b3ca-3854-4550-97bf-c836d216203d,id=301464d5-6e80-4742-baea-a5b7a3ad0e56; trace=d844b3ca-3854-4550-97bf-c836d216203d,id=22007a9d-4917-4d9c-b83b-b7792a20e2b7; trace=d844b3ca-3854-4550-97bf-c836d216203d,id=760ece47-d4ad-4410-8d85-7d09fcebd38a; trace=d844b3ca-3854-4550-97bf-c836d216203d,id=764b7d18-d44b-4c13-a9e5-c6ce80dbec65\n",
      "Failed to multipart ingest runs: langsmith.utils.LangSmithAuthError: Authentication failed for https://api.smith.langchain.com/runs/multipart. HTTPError('401 Client Error: Unauthorized for url: https://api.smith.langchain.com/runs/multipart', '{\"detail\":\"Invalid token\"}')trace=d844b3ca-3854-4550-97bf-c836d216203d,id=3f9048e1-909a-4534-b049-0a878f033302; trace=d844b3ca-3854-4550-97bf-c836d216203d,id=d844b3ca-3854-4550-97bf-c836d216203d; trace=d844b3ca-3854-4550-97bf-c836d216203d,id=42364660-c1d2-4d53-8e38-1eae35d64704; trace=d844b3ca-3854-4550-97bf-c836d216203d,id=eee40f8c-1932-40c5-9f36-ac656a500b9b; trace=d844b3ca-3854-4550-97bf-c836d216203d,id=41e77a6a-ec41-4474-83e2-82fd61139369; trace=d844b3ca-3854-4550-97bf-c836d216203d,id=80b5c860-48d0-4e7e-9dae-53067730db5a\n",
      "Failed to multipart ingest runs: langsmith.utils.LangSmithAuthError: Authentication failed for https://api.smith.langchain.com/runs/multipart. HTTPError('401 Client Error: Unauthorized for url: https://api.smith.langchain.com/runs/multipart', '{\"detail\":\"Invalid token\"}')trace=d5ea29b7-aeb8-4415-8c32-4a284d012b2f,id=d5ea29b7-aeb8-4415-8c32-4a284d012b2f; trace=d5ea29b7-aeb8-4415-8c32-4a284d012b2f,id=f4c516b7-2f34-43c8-88a8-79152ae87841; trace=d5ea29b7-aeb8-4415-8c32-4a284d012b2f,id=91b8ad4f-3412-4110-be27-c6f56bf968e8; trace=d5ea29b7-aeb8-4415-8c32-4a284d012b2f,id=ed3111dc-eced-4927-a99c-9567b20dc578; trace=d5ea29b7-aeb8-4415-8c32-4a284d012b2f,id=e5806101-fc2f-4963-89c5-61d209ea45c8; trace=d5ea29b7-aeb8-4415-8c32-4a284d012b2f,id=0dd41d72-6914-4301-8586-23726566726d\n",
      "Failed to multipart ingest runs: langsmith.utils.LangSmithAuthError: Authentication failed for https://api.smith.langchain.com/runs/multipart. HTTPError('401 Client Error: Unauthorized for url: https://api.smith.langchain.com/runs/multipart', '{\"detail\":\"Invalid token\"}')trace=d5ea29b7-aeb8-4415-8c32-4a284d012b2f,id=e4990b4d-3418-414d-a681-221dbcccd4b2; trace=d5ea29b7-aeb8-4415-8c32-4a284d012b2f,id=b1bb76bb-67e8-4afe-a16f-ab72553f3c88; trace=d5ea29b7-aeb8-4415-8c32-4a284d012b2f,id=abbd1143-8d22-472d-a7cd-440deeb0425f; trace=d5ea29b7-aeb8-4415-8c32-4a284d012b2f,id=c27ad1dc-4371-4210-b8e1-23abb4893ce9; trace=d5ea29b7-aeb8-4415-8c32-4a284d012b2f,id=d0037cf7-f8f9-4049-90c1-bb983ffc9ea7; trace=d5ea29b7-aeb8-4415-8c32-4a284d012b2f,id=f84a1715-f074-4c89-b0af-c592b61b908a; trace=d5ea29b7-aeb8-4415-8c32-4a284d012b2f,id=20a458e8-3122-4147-bc62-a34212e8a431; trace=d5ea29b7-aeb8-4415-8c32-4a284d012b2f,id=f4c516b7-2f34-43c8-88a8-79152ae87841; trace=d5ea29b7-aeb8-4415-8c32-4a284d012b2f,id=91b8ad4f-3412-4110-be27-c6f56bf968e8; trace=d5ea29b7-aeb8-4415-8c32-4a284d012b2f,id=ed3111dc-eced-4927-a99c-9567b20dc578; trace=d5ea29b7-aeb8-4415-8c32-4a284d012b2f,id=0dd41d72-6914-4301-8586-23726566726d; trace=d5ea29b7-aeb8-4415-8c32-4a284d012b2f,id=d5ea29b7-aeb8-4415-8c32-4a284d012b2f\n",
      "Failed to multipart ingest runs: langsmith.utils.LangSmithAuthError: Authentication failed for https://api.smith.langchain.com/runs/multipart. HTTPError('401 Client Error: Unauthorized for url: https://api.smith.langchain.com/runs/multipart', '{\"detail\":\"Invalid token\"}')trace=e897b0fa-dbdd-4dcd-8e57-47010d3e35a2,id=e897b0fa-dbdd-4dcd-8e57-47010d3e35a2; trace=e897b0fa-dbdd-4dcd-8e57-47010d3e35a2,id=1a8f3e7a-9614-495d-a8a2-ea043f254ebf; trace=e897b0fa-dbdd-4dcd-8e57-47010d3e35a2,id=87da2d42-d51b-4830-997c-c94270b20089; trace=e897b0fa-dbdd-4dcd-8e57-47010d3e35a2,id=f2ef47fa-acc0-4817-9547-56a333a1ea77; trace=e897b0fa-dbdd-4dcd-8e57-47010d3e35a2,id=0ea874c0-f75a-4882-a3e7-a6b6b538008d; trace=e897b0fa-dbdd-4dcd-8e57-47010d3e35a2,id=981b8618-34db-494e-a41f-f24fcf752857\n",
      "Failed to multipart ingest runs: langsmith.utils.LangSmithAuthError: Authentication failed for https://api.smith.langchain.com/runs/multipart. HTTPError('401 Client Error: Unauthorized for url: https://api.smith.langchain.com/runs/multipart', '{\"detail\":\"Invalid token\"}')trace=e897b0fa-dbdd-4dcd-8e57-47010d3e35a2,id=cea2c7bd-e614-4804-af10-d3d93ffd0680; trace=e897b0fa-dbdd-4dcd-8e57-47010d3e35a2,id=2579fcd4-ffb3-49e4-8771-e15c0c639692; trace=e897b0fa-dbdd-4dcd-8e57-47010d3e35a2,id=75a76364-4c8b-4131-bc18-410088fcb9ac; trace=e897b0fa-dbdd-4dcd-8e57-47010d3e35a2,id=5b2512ab-2384-485f-b83f-ae0c436758ef; trace=e897b0fa-dbdd-4dcd-8e57-47010d3e35a2,id=0ecaae11-6ff4-4be9-b50d-dd0e10434e2d; trace=e897b0fa-dbdd-4dcd-8e57-47010d3e35a2,id=8e900681-ee96-4567-8f6d-b081c25550fd; trace=e897b0fa-dbdd-4dcd-8e57-47010d3e35a2,id=d2dc5ec4-9d62-4201-b426-71670171a638; trace=e897b0fa-dbdd-4dcd-8e57-47010d3e35a2,id=6f6d9230-af90-492a-84c1-296fd20912e7; trace=e897b0fa-dbdd-4dcd-8e57-47010d3e35a2,id=f2ef47fa-acc0-4817-9547-56a333a1ea77; trace=e897b0fa-dbdd-4dcd-8e57-47010d3e35a2,id=981b8618-34db-494e-a41f-f24fcf752857; trace=e897b0fa-dbdd-4dcd-8e57-47010d3e35a2,id=1a8f3e7a-9614-495d-a8a2-ea043f254ebf; trace=e897b0fa-dbdd-4dcd-8e57-47010d3e35a2,id=87da2d42-d51b-4830-997c-c94270b20089\n",
      "Failed to multipart ingest runs: langsmith.utils.LangSmithAuthError: Authentication failed for https://api.smith.langchain.com/runs/multipart. HTTPError('401 Client Error: Unauthorized for url: https://api.smith.langchain.com/runs/multipart', '{\"detail\":\"Invalid token\"}')trace=e897b0fa-dbdd-4dcd-8e57-47010d3e35a2,id=a083d584-206b-4d68-98fc-0458bfb0630d; trace=e897b0fa-dbdd-4dcd-8e57-47010d3e35a2,id=e897b0fa-dbdd-4dcd-8e57-47010d3e35a2; trace=e897b0fa-dbdd-4dcd-8e57-47010d3e35a2,id=cea2c7bd-e614-4804-af10-d3d93ffd0680; trace=e897b0fa-dbdd-4dcd-8e57-47010d3e35a2,id=2579fcd4-ffb3-49e4-8771-e15c0c639692; trace=e897b0fa-dbdd-4dcd-8e57-47010d3e35a2,id=75a76364-4c8b-4131-bc18-410088fcb9ac; trace=e897b0fa-dbdd-4dcd-8e57-47010d3e35a2,id=6f6d9230-af90-492a-84c1-296fd20912e7\n",
      "Failed to multipart ingest runs: langsmith.utils.LangSmithAuthError: Authentication failed for https://api.smith.langchain.com/runs/multipart. HTTPError('401 Client Error: Unauthorized for url: https://api.smith.langchain.com/runs/multipart', '{\"detail\":\"Invalid token\"}')trace=fa737c18-a08f-41c3-afa7-8ebccb6ff553,id=fa737c18-a08f-41c3-afa7-8ebccb6ff553; trace=fa737c18-a08f-41c3-afa7-8ebccb6ff553,id=7ed33242-824d-4ea8-9e4a-04f9f15d3625; trace=fa737c18-a08f-41c3-afa7-8ebccb6ff553,id=fcd7b54c-a574-4903-aa9f-be11641b61ad; trace=fa737c18-a08f-41c3-afa7-8ebccb6ff553,id=740927fa-3337-4590-a931-18d1e4578b98; trace=fa737c18-a08f-41c3-afa7-8ebccb6ff553,id=e5da2fad-6e1c-4b05-92b9-32adfca466a4; trace=fa737c18-a08f-41c3-afa7-8ebccb6ff553,id=b28b5323-0ba3-4c0f-b801-25d8ad967a4e\n",
      "Failed to multipart ingest runs: langsmith.utils.LangSmithAuthError: Authentication failed for https://api.smith.langchain.com/runs/multipart. HTTPError('401 Client Error: Unauthorized for url: https://api.smith.langchain.com/runs/multipart', '{\"detail\":\"Invalid token\"}')trace=fa737c18-a08f-41c3-afa7-8ebccb6ff553,id=02c9b2b8-f922-4ab6-afd3-fcdbbc0c2c3a; trace=fa737c18-a08f-41c3-afa7-8ebccb6ff553,id=94f841f0-bd29-4812-bfd7-15a870f2fa1d; trace=fa737c18-a08f-41c3-afa7-8ebccb6ff553,id=0fd6678b-c3b0-4d83-8399-d9f25eebda34; trace=fa737c18-a08f-41c3-afa7-8ebccb6ff553,id=16096c92-1ba9-410f-99a1-6fa9a417fc27; trace=fa737c18-a08f-41c3-afa7-8ebccb6ff553,id=018ebdff-9f7e-46f0-a5da-8da5b5919b34; trace=fa737c18-a08f-41c3-afa7-8ebccb6ff553,id=9c1085b4-ab6e-49b1-bb0b-148118b0cee8; trace=fa737c18-a08f-41c3-afa7-8ebccb6ff553,id=8476829c-c206-4c68-bb4e-3cbc016e8f78; trace=fa737c18-a08f-41c3-afa7-8ebccb6ff553,id=cf211bf4-0105-4e02-92ae-296493f3c6ae; trace=fa737c18-a08f-41c3-afa7-8ebccb6ff553,id=7ed33242-824d-4ea8-9e4a-04f9f15d3625; trace=fa737c18-a08f-41c3-afa7-8ebccb6ff553,id=fcd7b54c-a574-4903-aa9f-be11641b61ad; trace=fa737c18-a08f-41c3-afa7-8ebccb6ff553,id=740927fa-3337-4590-a931-18d1e4578b98; trace=fa737c18-a08f-41c3-afa7-8ebccb6ff553,id=b28b5323-0ba3-4c0f-b801-25d8ad967a4e\n",
      "Failed to multipart ingest runs: langsmith.utils.LangSmithAuthError: Authentication failed for https://api.smith.langchain.com/runs/multipart. HTTPError('401 Client Error: Unauthorized for url: https://api.smith.langchain.com/runs/multipart', '{\"detail\":\"Invalid token\"}')trace=fa737c18-a08f-41c3-afa7-8ebccb6ff553,id=5b219a9c-f60d-4145-a60a-9620e42dad59; trace=fa737c18-a08f-41c3-afa7-8ebccb6ff553,id=cf211bf4-0105-4e02-92ae-296493f3c6ae; trace=fa737c18-a08f-41c3-afa7-8ebccb6ff553,id=fa737c18-a08f-41c3-afa7-8ebccb6ff553; trace=fa737c18-a08f-41c3-afa7-8ebccb6ff553,id=02c9b2b8-f922-4ab6-afd3-fcdbbc0c2c3a; trace=fa737c18-a08f-41c3-afa7-8ebccb6ff553,id=94f841f0-bd29-4812-bfd7-15a870f2fa1d; trace=fa737c18-a08f-41c3-afa7-8ebccb6ff553,id=0fd6678b-c3b0-4d83-8399-d9f25eebda34\n",
      "Failed to multipart ingest runs: langsmith.utils.LangSmithAuthError: Authentication failed for https://api.smith.langchain.com/runs/multipart. HTTPError('401 Client Error: Unauthorized for url: https://api.smith.langchain.com/runs/multipart', '{\"detail\":\"Invalid token\"}')trace=ea9f3195-a2f8-4b97-aafd-b94cfb1de936,id=ea9f3195-a2f8-4b97-aafd-b94cfb1de936; trace=ea9f3195-a2f8-4b97-aafd-b94cfb1de936,id=cc9062fc-209a-408d-92cc-10d3f76d2604; trace=ea9f3195-a2f8-4b97-aafd-b94cfb1de936,id=15f0cd4b-4872-4122-ba59-7a9bbae0f7ac; trace=ea9f3195-a2f8-4b97-aafd-b94cfb1de936,id=be36cdff-bc05-4477-b82e-ff0bec0da030; trace=ea9f3195-a2f8-4b97-aafd-b94cfb1de936,id=e412a9f7-c0e0-4064-b1c1-dd4c8d02332a; trace=ea9f3195-a2f8-4b97-aafd-b94cfb1de936,id=9676f899-d500-46e8-83b0-f3cc5657a74a\n",
      "Failed to multipart ingest runs: langsmith.utils.LangSmithAuthError: Authentication failed for https://api.smith.langchain.com/runs/multipart. HTTPError('401 Client Error: Unauthorized for url: https://api.smith.langchain.com/runs/multipart', '{\"detail\":\"Invalid token\"}')trace=ea9f3195-a2f8-4b97-aafd-b94cfb1de936,id=551a64ec-df34-4922-9dc2-78ea678d9960; trace=ea9f3195-a2f8-4b97-aafd-b94cfb1de936,id=77fed0d1-8be9-402e-97ef-7fa491032f6a; trace=ea9f3195-a2f8-4b97-aafd-b94cfb1de936,id=6925e674-cd21-4d20-8e83-c7395be281ba; trace=ea9f3195-a2f8-4b97-aafd-b94cfb1de936,id=7c8b9ba0-5c11-40c7-ab44-a995f61e48dd; trace=ea9f3195-a2f8-4b97-aafd-b94cfb1de936,id=67e53b9d-7dac-4406-9121-7dfa2d16c09a; trace=ea9f3195-a2f8-4b97-aafd-b94cfb1de936,id=a1fa099f-39a8-414e-9020-d5de064a5c2b; trace=ea9f3195-a2f8-4b97-aafd-b94cfb1de936,id=4ee69647-44d7-424f-ab8e-af17eb4410c9; trace=ea9f3195-a2f8-4b97-aafd-b94cfb1de936,id=9c573511-9f01-4c5f-b9fe-113288a5cb05; trace=ea9f3195-a2f8-4b97-aafd-b94cfb1de936,id=be36cdff-bc05-4477-b82e-ff0bec0da030; trace=ea9f3195-a2f8-4b97-aafd-b94cfb1de936,id=9676f899-d500-46e8-83b0-f3cc5657a74a; trace=ea9f3195-a2f8-4b97-aafd-b94cfb1de936,id=cc9062fc-209a-408d-92cc-10d3f76d2604; trace=ea9f3195-a2f8-4b97-aafd-b94cfb1de936,id=15f0cd4b-4872-4122-ba59-7a9bbae0f7ac\n",
      "Failed to multipart ingest runs: langsmith.utils.LangSmithAuthError: Authentication failed for https://api.smith.langchain.com/runs/multipart. HTTPError('401 Client Error: Unauthorized for url: https://api.smith.langchain.com/runs/multipart', '{\"detail\":\"Invalid token\"}')trace=ea9f3195-a2f8-4b97-aafd-b94cfb1de936,id=757d1417-efa6-4198-b6ea-f16896265f13; trace=ea9f3195-a2f8-4b97-aafd-b94cfb1de936,id=9c573511-9f01-4c5f-b9fe-113288a5cb05; trace=ea9f3195-a2f8-4b97-aafd-b94cfb1de936,id=6925e674-cd21-4d20-8e83-c7395be281ba; trace=ea9f3195-a2f8-4b97-aafd-b94cfb1de936,id=ea9f3195-a2f8-4b97-aafd-b94cfb1de936; trace=ea9f3195-a2f8-4b97-aafd-b94cfb1de936,id=551a64ec-df34-4922-9dc2-78ea678d9960; trace=ea9f3195-a2f8-4b97-aafd-b94cfb1de936,id=77fed0d1-8be9-402e-97ef-7fa491032f6a\n",
      "Failed to multipart ingest runs: langsmith.utils.LangSmithAuthError: Authentication failed for https://api.smith.langchain.com/runs/multipart. HTTPError('401 Client Error: Unauthorized for url: https://api.smith.langchain.com/runs/multipart', '{\"detail\":\"Invalid token\"}')trace=aa7476e4-e274-46ed-bcf9-eac4148f44e5,id=aa7476e4-e274-46ed-bcf9-eac4148f44e5; trace=aa7476e4-e274-46ed-bcf9-eac4148f44e5,id=d53a5331-3416-4ce5-b8cc-6fa13bc1dfdc; trace=aa7476e4-e274-46ed-bcf9-eac4148f44e5,id=b9e9c254-21a1-4f58-9baf-cbb6c4913640; trace=aa7476e4-e274-46ed-bcf9-eac4148f44e5,id=1945ba6c-f45d-492b-9ac6-238475ec4a4d; trace=aa7476e4-e274-46ed-bcf9-eac4148f44e5,id=73fe780c-4dc9-4763-baa4-fbf5858ba75a; trace=aa7476e4-e274-46ed-bcf9-eac4148f44e5,id=a6445e98-0ab3-4d1d-b54c-25f309717dfa\n",
      "Failed to multipart ingest runs: langsmith.utils.LangSmithAuthError: Authentication failed for https://api.smith.langchain.com/runs/multipart. HTTPError('401 Client Error: Unauthorized for url: https://api.smith.langchain.com/runs/multipart', '{\"detail\":\"Invalid token\"}')trace=aa7476e4-e274-46ed-bcf9-eac4148f44e5,id=223d0165-ad06-41d7-8fc1-e401a10d4c37; trace=aa7476e4-e274-46ed-bcf9-eac4148f44e5,id=bb8c181b-4c08-4417-ad24-ac8d8b207978; trace=aa7476e4-e274-46ed-bcf9-eac4148f44e5,id=cd7c826d-d49f-4033-8d51-0b2de9e7319b; trace=aa7476e4-e274-46ed-bcf9-eac4148f44e5,id=30faeae1-236c-49d9-988d-76ca1dc2da3c; trace=aa7476e4-e274-46ed-bcf9-eac4148f44e5,id=31673bb4-e39c-4dcb-b9d7-0240185b1ee1; trace=aa7476e4-e274-46ed-bcf9-eac4148f44e5,id=2949362e-13f9-4ea8-8133-06566e3b73a6; trace=aa7476e4-e274-46ed-bcf9-eac4148f44e5,id=8b53a094-83aa-4e8e-97c0-d291b0c95faa; trace=aa7476e4-e274-46ed-bcf9-eac4148f44e5,id=50e7c645-8ebe-4573-8bdb-85e7c05d2106; trace=aa7476e4-e274-46ed-bcf9-eac4148f44e5,id=1945ba6c-f45d-492b-9ac6-238475ec4a4d; trace=aa7476e4-e274-46ed-bcf9-eac4148f44e5,id=a6445e98-0ab3-4d1d-b54c-25f309717dfa; trace=aa7476e4-e274-46ed-bcf9-eac4148f44e5,id=d53a5331-3416-4ce5-b8cc-6fa13bc1dfdc; trace=aa7476e4-e274-46ed-bcf9-eac4148f44e5,id=b9e9c254-21a1-4f58-9baf-cbb6c4913640\n",
      "Failed to multipart ingest runs: langsmith.utils.LangSmithAuthError: Authentication failed for https://api.smith.langchain.com/runs/multipart. HTTPError('401 Client Error: Unauthorized for url: https://api.smith.langchain.com/runs/multipart', '{\"detail\":\"Invalid token\"}')trace=aa7476e4-e274-46ed-bcf9-eac4148f44e5,id=84450d4a-ae7b-489b-8bc8-c3ddb81b9f03; trace=aa7476e4-e274-46ed-bcf9-eac4148f44e5,id=aa7476e4-e274-46ed-bcf9-eac4148f44e5; trace=aa7476e4-e274-46ed-bcf9-eac4148f44e5,id=223d0165-ad06-41d7-8fc1-e401a10d4c37; trace=aa7476e4-e274-46ed-bcf9-eac4148f44e5,id=bb8c181b-4c08-4417-ad24-ac8d8b207978; trace=aa7476e4-e274-46ed-bcf9-eac4148f44e5,id=cd7c826d-d49f-4033-8d51-0b2de9e7319b; trace=aa7476e4-e274-46ed-bcf9-eac4148f44e5,id=50e7c645-8ebe-4573-8bdb-85e7c05d2106\n",
      "Failed to multipart ingest runs: langsmith.utils.LangSmithAuthError: Authentication failed for https://api.smith.langchain.com/runs/multipart. HTTPError('401 Client Error: Unauthorized for url: https://api.smith.langchain.com/runs/multipart', '{\"detail\":\"Invalid token\"}')trace=9ba82a4f-d840-4b72-86f2-39d0781bd787,id=9ba82a4f-d840-4b72-86f2-39d0781bd787; trace=9ba82a4f-d840-4b72-86f2-39d0781bd787,id=f7b92df3-3b5f-4864-9be7-d6835d780265; trace=9ba82a4f-d840-4b72-86f2-39d0781bd787,id=a55a01b3-3106-4724-b2d5-80ff88639026; trace=9ba82a4f-d840-4b72-86f2-39d0781bd787,id=cb13db43-0edf-4498-83f0-05c2d55b9e02; trace=9ba82a4f-d840-4b72-86f2-39d0781bd787,id=19776f3b-211b-4623-a12c-6b34f5bb4a78; trace=9ba82a4f-d840-4b72-86f2-39d0781bd787,id=00679fe8-280b-42dc-9ed9-b5d8b3ca89cd\n",
      "Failed to multipart ingest runs: langsmith.utils.LangSmithAuthError: Authentication failed for https://api.smith.langchain.com/runs/multipart. HTTPError('401 Client Error: Unauthorized for url: https://api.smith.langchain.com/runs/multipart', '{\"detail\":\"Invalid token\"}')trace=9ba82a4f-d840-4b72-86f2-39d0781bd787,id=3adad8f3-c6f9-4b56-b565-e36268a9e2e4; trace=9ba82a4f-d840-4b72-86f2-39d0781bd787,id=50c582e3-02c3-407f-8b32-59363aca1193; trace=9ba82a4f-d840-4b72-86f2-39d0781bd787,id=f80a1122-3b68-45b0-910c-c01c479f0408; trace=9ba82a4f-d840-4b72-86f2-39d0781bd787,id=9436f9bd-0f62-4ac4-ae72-634b7de3436c; trace=9ba82a4f-d840-4b72-86f2-39d0781bd787,id=fb26cb21-4478-4f87-8936-4a6a2bafd375; trace=9ba82a4f-d840-4b72-86f2-39d0781bd787,id=11c14a39-15b3-4c7d-95cb-94a8e11b3873; trace=9ba82a4f-d840-4b72-86f2-39d0781bd787,id=845b60ba-efd2-4fcb-a05b-eaf12adae96e; trace=9ba82a4f-d840-4b72-86f2-39d0781bd787,id=0d1a66f1-e2bf-48f6-ae3d-5482f4c08232; trace=9ba82a4f-d840-4b72-86f2-39d0781bd787,id=cb13db43-0edf-4498-83f0-05c2d55b9e02; trace=9ba82a4f-d840-4b72-86f2-39d0781bd787,id=00679fe8-280b-42dc-9ed9-b5d8b3ca89cd; trace=9ba82a4f-d840-4b72-86f2-39d0781bd787,id=f7b92df3-3b5f-4864-9be7-d6835d780265; trace=9ba82a4f-d840-4b72-86f2-39d0781bd787,id=a55a01b3-3106-4724-b2d5-80ff88639026\n",
      "Failed to multipart ingest runs: langsmith.utils.LangSmithAuthError: Authentication failed for https://api.smith.langchain.com/runs/multipart. HTTPError('401 Client Error: Unauthorized for url: https://api.smith.langchain.com/runs/multipart', '{\"detail\":\"Invalid token\"}')trace=9ba82a4f-d840-4b72-86f2-39d0781bd787,id=2db7ddd5-a867-4791-ab37-9bfd77c13258; trace=9ba82a4f-d840-4b72-86f2-39d0781bd787,id=0d1a66f1-e2bf-48f6-ae3d-5482f4c08232; trace=9ba82a4f-d840-4b72-86f2-39d0781bd787,id=f80a1122-3b68-45b0-910c-c01c479f0408; trace=9ba82a4f-d840-4b72-86f2-39d0781bd787,id=9ba82a4f-d840-4b72-86f2-39d0781bd787; trace=9ba82a4f-d840-4b72-86f2-39d0781bd787,id=3adad8f3-c6f9-4b56-b565-e36268a9e2e4; trace=9ba82a4f-d840-4b72-86f2-39d0781bd787,id=50c582e3-02c3-407f-8b32-59363aca1193\n",
      "Failed to multipart ingest runs: langsmith.utils.LangSmithAuthError: Authentication failed for https://api.smith.langchain.com/runs/multipart. HTTPError('401 Client Error: Unauthorized for url: https://api.smith.langchain.com/runs/multipart', '{\"detail\":\"Invalid token\"}')trace=80595bf2-6804-498e-b424-45fba399843a,id=80595bf2-6804-498e-b424-45fba399843a; trace=80595bf2-6804-498e-b424-45fba399843a,id=21a7b93f-884a-4128-82e6-03b0799c53bc; trace=80595bf2-6804-498e-b424-45fba399843a,id=47e72224-d3fe-4a00-97d1-29c0a43d6532; trace=80595bf2-6804-498e-b424-45fba399843a,id=c42988bd-f493-46a6-ad78-cd389c00a066; trace=80595bf2-6804-498e-b424-45fba399843a,id=9b38dac6-1c7a-49fa-a03b-04f10eb59513; trace=80595bf2-6804-498e-b424-45fba399843a,id=baf6f3ed-923c-4fe3-8f77-14d38c6f2cd1\n",
      "Failed to multipart ingest runs: langsmith.utils.LangSmithAuthError: Authentication failed for https://api.smith.langchain.com/runs/multipart. HTTPError('401 Client Error: Unauthorized for url: https://api.smith.langchain.com/runs/multipart', '{\"detail\":\"Invalid token\"}')trace=80595bf2-6804-498e-b424-45fba399843a,id=e8c5084e-ecba-4c4f-a124-77554c377a16; trace=80595bf2-6804-498e-b424-45fba399843a,id=7f7b91b8-1aca-4f77-b35a-c62e80316b1d; trace=80595bf2-6804-498e-b424-45fba399843a,id=bf12a1de-3c3a-4e2f-accb-62d140d18695; trace=80595bf2-6804-498e-b424-45fba399843a,id=13fe316a-a797-4f04-b138-6dff5fbcf8d3; trace=80595bf2-6804-498e-b424-45fba399843a,id=0d3151ab-2fb2-437b-8806-d080e9ef2dbe; trace=80595bf2-6804-498e-b424-45fba399843a,id=5bfa540c-ba97-4320-9fc0-bef3c9a7c89b; trace=80595bf2-6804-498e-b424-45fba399843a,id=259f4e45-23c7-41b9-b784-525650965d72; trace=80595bf2-6804-498e-b424-45fba399843a,id=a91b04ab-ad5f-4007-869c-2c8f9b01a21b; trace=80595bf2-6804-498e-b424-45fba399843a,id=21a7b93f-884a-4128-82e6-03b0799c53bc; trace=80595bf2-6804-498e-b424-45fba399843a,id=47e72224-d3fe-4a00-97d1-29c0a43d6532; trace=80595bf2-6804-498e-b424-45fba399843a,id=c42988bd-f493-46a6-ad78-cd389c00a066; trace=80595bf2-6804-498e-b424-45fba399843a,id=baf6f3ed-923c-4fe3-8f77-14d38c6f2cd1\n",
      "Failed to multipart ingest runs: langsmith.utils.LangSmithAuthError: Authentication failed for https://api.smith.langchain.com/runs/multipart. HTTPError('401 Client Error: Unauthorized for url: https://api.smith.langchain.com/runs/multipart', '{\"detail\":\"Invalid token\"}')trace=80595bf2-6804-498e-b424-45fba399843a,id=d934e541-6f16-4fc5-a1b4-9ad9e5d6a22c; trace=80595bf2-6804-498e-b424-45fba399843a,id=a91b04ab-ad5f-4007-869c-2c8f9b01a21b; trace=80595bf2-6804-498e-b424-45fba399843a,id=bf12a1de-3c3a-4e2f-accb-62d140d18695; trace=80595bf2-6804-498e-b424-45fba399843a,id=80595bf2-6804-498e-b424-45fba399843a; trace=80595bf2-6804-498e-b424-45fba399843a,id=e8c5084e-ecba-4c4f-a124-77554c377a16; trace=80595bf2-6804-498e-b424-45fba399843a,id=7f7b91b8-1aca-4f77-b35a-c62e80316b1d\n",
      "Failed to multipart ingest runs: langsmith.utils.LangSmithAuthError: Authentication failed for https://api.smith.langchain.com/runs/multipart. HTTPError('401 Client Error: Unauthorized for url: https://api.smith.langchain.com/runs/multipart', '{\"detail\":\"Invalid token\"}')trace=76a2e06c-8cd6-49e3-8127-a9cb5b20736d,id=76a2e06c-8cd6-49e3-8127-a9cb5b20736d; trace=76a2e06c-8cd6-49e3-8127-a9cb5b20736d,id=9dbc1d39-0596-464d-a9cf-d3db2997e086; trace=76a2e06c-8cd6-49e3-8127-a9cb5b20736d,id=7b85cd74-65a9-45b0-b5c6-bd38ee12b86d; trace=76a2e06c-8cd6-49e3-8127-a9cb5b20736d,id=a20d1413-bfe8-43df-92b2-52648c3e1544; trace=76a2e06c-8cd6-49e3-8127-a9cb5b20736d,id=7a339c6b-8348-41a5-9992-41a4b990f0d4; trace=76a2e06c-8cd6-49e3-8127-a9cb5b20736d,id=4bf86d0d-1505-41c7-a51b-393ff7c7a940\n",
      "Failed to multipart ingest runs: langsmith.utils.LangSmithAuthError: Authentication failed for https://api.smith.langchain.com/runs/multipart. HTTPError('401 Client Error: Unauthorized for url: https://api.smith.langchain.com/runs/multipart', '{\"detail\":\"Invalid token\"}')trace=76a2e06c-8cd6-49e3-8127-a9cb5b20736d,id=b4fc55a6-ff76-420d-8994-366f599ce43f; trace=76a2e06c-8cd6-49e3-8127-a9cb5b20736d,id=4c269dbc-80c1-42f7-93d8-7a9af1ce74a3; trace=76a2e06c-8cd6-49e3-8127-a9cb5b20736d,id=fbb769fc-ac6d-4be7-9d9f-9b12f4322672; trace=76a2e06c-8cd6-49e3-8127-a9cb5b20736d,id=b9a1e31c-0ffb-44c5-84dd-537ae00bce9c; trace=76a2e06c-8cd6-49e3-8127-a9cb5b20736d,id=b77a239e-dc9a-4425-a0a9-8369a325ab8c; trace=76a2e06c-8cd6-49e3-8127-a9cb5b20736d,id=67321cff-1626-42dd-9773-6cfe1110aa0f; trace=76a2e06c-8cd6-49e3-8127-a9cb5b20736d,id=4469dc2d-9272-44b5-a1b5-2a1dd1261620; trace=76a2e06c-8cd6-49e3-8127-a9cb5b20736d,id=0880798a-0025-4850-8689-7fbea98b5b03; trace=76a2e06c-8cd6-49e3-8127-a9cb5b20736d,id=9dbc1d39-0596-464d-a9cf-d3db2997e086; trace=76a2e06c-8cd6-49e3-8127-a9cb5b20736d,id=7b85cd74-65a9-45b0-b5c6-bd38ee12b86d; trace=76a2e06c-8cd6-49e3-8127-a9cb5b20736d,id=a20d1413-bfe8-43df-92b2-52648c3e1544; trace=76a2e06c-8cd6-49e3-8127-a9cb5b20736d,id=4bf86d0d-1505-41c7-a51b-393ff7c7a940\n",
      "Failed to multipart ingest runs: langsmith.utils.LangSmithAuthError: Authentication failed for https://api.smith.langchain.com/runs/multipart. HTTPError('401 Client Error: Unauthorized for url: https://api.smith.langchain.com/runs/multipart', '{\"detail\":\"Invalid token\"}')trace=76a2e06c-8cd6-49e3-8127-a9cb5b20736d,id=98f81e94-b5bd-45de-b36f-5727f609d89e; trace=76a2e06c-8cd6-49e3-8127-a9cb5b20736d,id=0880798a-0025-4850-8689-7fbea98b5b03; trace=76a2e06c-8cd6-49e3-8127-a9cb5b20736d,id=76a2e06c-8cd6-49e3-8127-a9cb5b20736d; trace=76a2e06c-8cd6-49e3-8127-a9cb5b20736d,id=b4fc55a6-ff76-420d-8994-366f599ce43f; trace=76a2e06c-8cd6-49e3-8127-a9cb5b20736d,id=4c269dbc-80c1-42f7-93d8-7a9af1ce74a3; trace=76a2e06c-8cd6-49e3-8127-a9cb5b20736d,id=fbb769fc-ac6d-4be7-9d9f-9b12f4322672\n",
      "Failed to multipart ingest runs: langsmith.utils.LangSmithAuthError: Authentication failed for https://api.smith.langchain.com/runs/multipart. HTTPError('401 Client Error: Unauthorized for url: https://api.smith.langchain.com/runs/multipart', '{\"detail\":\"Invalid token\"}')trace=2449b7cc-bf75-44eb-8007-17395919765c,id=2449b7cc-bf75-44eb-8007-17395919765c; trace=2449b7cc-bf75-44eb-8007-17395919765c,id=357890dc-7e4e-4462-9722-1f87aa5e6a4d; trace=2449b7cc-bf75-44eb-8007-17395919765c,id=bc840226-f085-4851-a7f8-59ab9cf01ee7; trace=2449b7cc-bf75-44eb-8007-17395919765c,id=e6124b77-d222-48f9-b197-eee66927aa18; trace=2449b7cc-bf75-44eb-8007-17395919765c,id=ee7d8860-4c19-44e3-9545-f96f26952cda; trace=2449b7cc-bf75-44eb-8007-17395919765c,id=451b1a6a-044a-4c0b-ba48-34ffed8f89ef\n",
      "Failed to multipart ingest runs: langsmith.utils.LangSmithAuthError: Authentication failed for https://api.smith.langchain.com/runs/multipart. HTTPError('401 Client Error: Unauthorized for url: https://api.smith.langchain.com/runs/multipart', '{\"detail\":\"Invalid token\"}')trace=2449b7cc-bf75-44eb-8007-17395919765c,id=d577659e-454e-47a6-85bd-7344090d34cc; trace=2449b7cc-bf75-44eb-8007-17395919765c,id=d0b7db13-ffee-4c34-94c4-0bedd54ecf59; trace=2449b7cc-bf75-44eb-8007-17395919765c,id=576f5168-cf1d-4227-bcc3-3f161c84ecaf; trace=2449b7cc-bf75-44eb-8007-17395919765c,id=cd31bb87-dd61-4460-8c47-7f0f082cd395; trace=2449b7cc-bf75-44eb-8007-17395919765c,id=3e9aa9e5-3a49-44bd-8fac-f30398f12414; trace=2449b7cc-bf75-44eb-8007-17395919765c,id=2cc2a312-12e5-4e86-b91d-1bec303e79bd; trace=2449b7cc-bf75-44eb-8007-17395919765c,id=c0fe5611-8ac2-47a1-a0eb-2c98560c9015; trace=2449b7cc-bf75-44eb-8007-17395919765c,id=70f6d06b-b501-4ef4-863f-0d0751c4730b; trace=2449b7cc-bf75-44eb-8007-17395919765c,id=e6124b77-d222-48f9-b197-eee66927aa18; trace=2449b7cc-bf75-44eb-8007-17395919765c,id=451b1a6a-044a-4c0b-ba48-34ffed8f89ef; trace=2449b7cc-bf75-44eb-8007-17395919765c,id=357890dc-7e4e-4462-9722-1f87aa5e6a4d; trace=2449b7cc-bf75-44eb-8007-17395919765c,id=bc840226-f085-4851-a7f8-59ab9cf01ee7\n",
      "Failed to multipart ingest runs: langsmith.utils.LangSmithAuthError: Authentication failed for https://api.smith.langchain.com/runs/multipart. HTTPError('401 Client Error: Unauthorized for url: https://api.smith.langchain.com/runs/multipart', '{\"detail\":\"Invalid token\"}')trace=2449b7cc-bf75-44eb-8007-17395919765c,id=fd1e7560-06b6-4714-b4f2-ee15fecb2cfd; trace=2449b7cc-bf75-44eb-8007-17395919765c,id=2449b7cc-bf75-44eb-8007-17395919765c; trace=2449b7cc-bf75-44eb-8007-17395919765c,id=d577659e-454e-47a6-85bd-7344090d34cc; trace=2449b7cc-bf75-44eb-8007-17395919765c,id=d0b7db13-ffee-4c34-94c4-0bedd54ecf59; trace=2449b7cc-bf75-44eb-8007-17395919765c,id=576f5168-cf1d-4227-bcc3-3f161c84ecaf; trace=2449b7cc-bf75-44eb-8007-17395919765c,id=70f6d06b-b501-4ef4-863f-0d0751c4730b\n",
      "Failed to multipart ingest runs: langsmith.utils.LangSmithAuthError: Authentication failed for https://api.smith.langchain.com/runs/multipart. HTTPError('401 Client Error: Unauthorized for url: https://api.smith.langchain.com/runs/multipart', '{\"detail\":\"Invalid token\"}')trace=bb23f4d3-21c6-4f9d-9e47-ac3d7acff632,id=bb23f4d3-21c6-4f9d-9e47-ac3d7acff632; trace=bb23f4d3-21c6-4f9d-9e47-ac3d7acff632,id=465f9279-6489-4359-8f36-e0ef6a2b066d; trace=bb23f4d3-21c6-4f9d-9e47-ac3d7acff632,id=0ad3c26f-ce33-491f-b16d-72581774e9cb; trace=bb23f4d3-21c6-4f9d-9e47-ac3d7acff632,id=14507124-c24e-47e6-8a24-f39558c67d73; trace=bb23f4d3-21c6-4f9d-9e47-ac3d7acff632,id=51794276-e1f7-4fb3-b666-0d527fe9888b; trace=bb23f4d3-21c6-4f9d-9e47-ac3d7acff632,id=d5a4e256-9c81-45f7-89e6-3c64e944dd41\n",
      "Failed to multipart ingest runs: langsmith.utils.LangSmithAuthError: Authentication failed for https://api.smith.langchain.com/runs/multipart. HTTPError('401 Client Error: Unauthorized for url: https://api.smith.langchain.com/runs/multipart', '{\"detail\":\"Invalid token\"}')trace=bb23f4d3-21c6-4f9d-9e47-ac3d7acff632,id=feef2420-2609-4f89-920f-51f438e57563; trace=bb23f4d3-21c6-4f9d-9e47-ac3d7acff632,id=9638af83-a43b-4c49-b4f3-3906247efe43; trace=bb23f4d3-21c6-4f9d-9e47-ac3d7acff632,id=c20ddb96-1059-482f-9f6f-254f840195e8; trace=bb23f4d3-21c6-4f9d-9e47-ac3d7acff632,id=3c05227a-1dec-4479-8183-b8b473187095; trace=bb23f4d3-21c6-4f9d-9e47-ac3d7acff632,id=6f55c3ca-165e-4fd3-83f5-3ee290283149; trace=bb23f4d3-21c6-4f9d-9e47-ac3d7acff632,id=3b89528e-c405-47f0-b5db-2c42c0654ceb; trace=bb23f4d3-21c6-4f9d-9e47-ac3d7acff632,id=3e3ac9a2-42e5-47d6-9857-65e0f8c5bd19; trace=bb23f4d3-21c6-4f9d-9e47-ac3d7acff632,id=35bdd897-edb8-4704-a149-9a04b092e197; trace=bb23f4d3-21c6-4f9d-9e47-ac3d7acff632,id=14507124-c24e-47e6-8a24-f39558c67d73; trace=bb23f4d3-21c6-4f9d-9e47-ac3d7acff632,id=d5a4e256-9c81-45f7-89e6-3c64e944dd41; trace=bb23f4d3-21c6-4f9d-9e47-ac3d7acff632,id=465f9279-6489-4359-8f36-e0ef6a2b066d; trace=bb23f4d3-21c6-4f9d-9e47-ac3d7acff632,id=0ad3c26f-ce33-491f-b16d-72581774e9cb\n",
      "Failed to multipart ingest runs: langsmith.utils.LangSmithAuthError: Authentication failed for https://api.smith.langchain.com/runs/multipart. HTTPError('401 Client Error: Unauthorized for url: https://api.smith.langchain.com/runs/multipart', '{\"detail\":\"Invalid token\"}')trace=bb23f4d3-21c6-4f9d-9e47-ac3d7acff632,id=3c78db0b-ce45-4ff4-b313-519f93e7a860; trace=bb23f4d3-21c6-4f9d-9e47-ac3d7acff632,id=c20ddb96-1059-482f-9f6f-254f840195e8; trace=bb23f4d3-21c6-4f9d-9e47-ac3d7acff632,id=35bdd897-edb8-4704-a149-9a04b092e197; trace=bb23f4d3-21c6-4f9d-9e47-ac3d7acff632,id=bb23f4d3-21c6-4f9d-9e47-ac3d7acff632; trace=bb23f4d3-21c6-4f9d-9e47-ac3d7acff632,id=feef2420-2609-4f89-920f-51f438e57563; trace=bb23f4d3-21c6-4f9d-9e47-ac3d7acff632,id=9638af83-a43b-4c49-b4f3-3906247efe43\n"
     ]
    }
   ],
   "source": [
    "rag_chain.invoke(\"What is a good 2 bedroom apartment that is cheaper than 1200 a month\")"
   ]
  },
  {
   "cell_type": "code",
   "execution_count": 31,
   "id": "0e1d3d44-bf86-4804-a670-f342f66f3c53",
   "metadata": {},
   "outputs": [],
   "source": [
    "# cleanup\n",
    "vectorstore.delete_collection()"
   ]
  },
  {
   "cell_type": "code",
   "execution_count": 46,
   "id": "a092f3be-8f7b-4f16-87e0-c54a6be529b0",
   "metadata": {},
   "outputs": [],
   "source": [
    "from langchain_core.prompts import PromptTemplate"
   ]
  },
  {
   "cell_type": "code",
   "execution_count": 56,
   "id": "a87fcdf4-1ff9-409a-949d-9bececc1f121",
   "metadata": {},
   "outputs": [],
   "source": [
    "template = \"\"\"Use the following pieces of context to answer the question given by a potential tenant about properties.\n",
    "If you don't know the answer, just say that you don't know, don't try to make up an answer.\n",
    "Use three sentences maximum, keep the answer as concise as possible, and provide the link to each property found from the source in the metadata.\n",
    "Always say \"thanks for asking!\" at the end of the answer.\n",
    "\n",
    "{context}\n",
    "\n",
    "Question: {question}\n",
    "\n",
    "Helpful Answer:\"\"\"\n",
    "custom_rag_prompt = PromptTemplate.from_template(template)"
   ]
  },
  {
   "cell_type": "code",
   "execution_count": 59,
   "id": "34277a48-107e-4233-b0f8-7772e14640dc",
   "metadata": {},
   "outputs": [],
   "source": [
    "from langchain_core.runnables import RunnableLambda\n",
    "\n",
    "def inspect(state):\n",
    "    \"\"\"Print the state passed between Runnables in a langchain and pass it on\"\"\"\n",
    "    print(state)\n",
    "    return state\n",
    "    \n",
    "rag_chain = (\n",
    "    {\"context\": retriever | format_docs, \"question\": RunnablePassthrough()}\n",
    "    | RunnableLambda(inspect)\n",
    "    | custom_rag_prompt\n",
    "    | llm\n",
    "    | StrOutputParser()\n",
    ")"
   ]
  },
  {
   "cell_type": "code",
   "execution_count": null,
   "id": "6d97eb7c-209b-4f9c-8947-5a65ec07525c",
   "metadata": {},
   "outputs": [],
   "source": []
  },
  {
   "cell_type": "code",
   "execution_count": null,
   "id": "05d725bd-b0e6-403e-899e-c4bbfccc70f7",
   "metadata": {},
   "outputs": [],
   "source": []
  },
  {
   "cell_type": "code",
   "execution_count": 60,
   "id": "8157fe10-d2fb-4504-a17c-202d3f1cb797",
   "metadata": {},
   "outputs": [
    {
     "name": "stdout",
     "output_type": "stream",
     "text": [
      "{'context': '74 E State, Apt 6: 2 Beds, 1 Block to Uptown, New Bathroom  Skip to main content  info@kleinpennyrentals.com740-594-6900      Main navigation    Housing   Detailed Search   Property List   Utilities   FAQ   Sample Lease   About Us   Contact Us   KP Educational Fund   Blog                                                 PreviousNext 74 E State St Apt 621.0  2Max occupancy2AvailableMay 2026Price$566 per bedroom per monthLeaseMay to MayIncludedWaterSewageGarbageNot includedElectricInternetAmenitiesAir conditioningBalconyCeramic tiled bathDishwasherMicrowaveNew bathroomNew carpetNew ceramic tile kitchen floorParking AvailableWasher and dryerWe just redecorated this cool 2-bedroom apartment at our 74 E State rental building, painting the walls a dramatic red and the trim a crisp white. The carpet is new in the living room and adds to the overall cozy ambiance of this open floorplan. We also remodeled the bathroom. A super-efficient mini-split system provides heat and AC.\\xa0Owner pays water, sewage, and garbage. Tenant pays other utilities, there is no gas. Security deposit is $566 per bedroom. You’ll be hard-pressed to find another Athens rental company offering a remodeled apartment this close to uptown and campus at $566 per month. You can even rent parking on-site; parking is available on a first-come, first-serve basis for $50 per month. Sorry, no pets allowed.What’s the neighborhood like?\\xa0Just off the corner of Fern and E State and around the corner from Mill Street, this apartment building is within sight of Court St, truly inside the uptown neighborhood. The neighborhood is close to all the bars and amenities of central Athens, as well as campus. And it’s also conveniently right next to our rental company’s office.\\xa03 words to describe this neighborhood: central, social, convenient\\xa0What’s this student rental close to?\\xa0Living in this off-campus apartment, you’re not far from anything. Some of the closest amenities are:\\xa0Busy Day: market/beer and liquor store\\xa0Courtside Pizza: restaurant/bar\\xa0Athens Underground: vintage/thrift shop\\xa0Distance to Court St: .2 mi, 3 min walk\\xa0Distance to campus: .3 mi, 7 min walk Send e-mailPost to Facebook  Kleinpenny Rentals32 Fern St.Athens, OH 45701info@kleinpennyrentals.com740-594-6900Main navigation    Housing   Detailed Search   Property List   Utilities   FAQ   Sample Lease   About Us   Contact Us   KP Educational Fund   Blog  Check out our Google ReviewsWebsite designed by KosadaParents’ Guide to Ohio University Parents\\n\\n12 N Congress, Apt 7: 1 Bed Ohio University Rental in Athens  Skip to main content  info@kleinpennyrentals.com740-594-6900      Main navigation    Housing   Detailed Search   Property List   Utilities   FAQ   Sample Lease   About Us   Contact Us   KP Educational Fund   Blog                                                       PreviousNext 12 N Congress St Apt 711.0  1–2Max occupancy2AvailableMay 2026Price$566 per bedroom per monthLeaseMay to MayIncludedWaterSewageGarbageNot includedElectricGasInternetAmenitiesCeramic tiled bathLarge closetLaundry roomNew bathroomThis\\xa0one bedroom off-campus apartment is at a great location just a half a block from Court St, and\\xa0very near to campus. Either one or two people can rent this cozy apartment. This unit has access to a laundry room down the hall on the same floor. The kitchen and bath have been recently remodeled, with tile floors in both rooms and a tile tub surround in the bathroom.\\xa0And this\\xa0student rental isn’t short on storage; the bedroom has a large closet, and there are two more closets in the apartment. Our\\xa0rental company pays the city utilities as well as gas to heat the hot water. Tenant pays electric, gas for the furnace and Wi-Fi. $567 security deposit.\\xa0Parking spaces are available to rent in a lot around the corner for $204 per semester. If you, or you and a partner, are looking for the perfect sanctuary that’s still\\xa0in the midst of the action uptown and just a short jaunt to campus, this apartment\\xa0is the perfect solution. Send e-mailPost to Facebook  Kleinpenny Rentals32 Fern St.Athens, OH 45701info@kleinpennyrentals.com740-594-6900Main navigation    Housing   Detailed Search   Property List   Utilities   FAQ   Sample Lease   About Us   Contact Us   KP Educational Fund   Blog  Check out our Google ReviewsWebsite designed by KosadaLease an Athens Two Bedroom Apartment that Makes Student Life Easy & FunWhether you’re a couple friends looking to live together, or a couple looking for an apartment with an extra room to study in, there are some great two bedroom apartments in Athens. Premiere Athens rental companies lease newly-renovated, well-kept, spacious units that don’t require long hikes to campus or the bars. And you don’t have to sacrifice amenities for proximity to uptown – there are two bedroom apartments with cool features like historic fireplaces and hardwood floors, AC, laundry, dishwashers, outdoor space, and more, right around the corner from Court St; you just have to talk to the right\\n\\n74 E State St, Apt 12: 2 Bed Apartment near Uptown Athens, OH  Skip to main content  info@kleinpennyrentals.com740-594-6900      Main navigation    Housing   Detailed Search   Property List   Utilities   FAQ   Sample Lease   About Us   Contact Us   KP Educational Fund   Blog                                           PreviousNext 74 E State St Apt 1221.0  2Max occupancy2AvailableMay 2026Price$566 per bedroom per monthLeaseMay to MayNot includedWaterSewageGarbageElectricAmenitiesCentral air conditioningCeramic tiled bathDishwasherHunter Douglas metal mini blindsLarge closetNew ceramic tile kitchen floorNew kitchenParking AvailableWasher and dryerThis 2-bedroom luxury rental boasts a great location just a block from Court St and right around the corner from the Sunoco station. You’d be living right off of E State St on one side and steps from central uptown on the other. It’s the perfect location for someone whose classes are centered around South Green, and it’s got all the amenities you’d expect in quality OU housing.\\xa0This two-bedroom unit has central air, a spacious kitchen with lots of cabinet space, a breakfast bar island, a dishwasher, and a washer and dryer. That’s right – never leave the house to do your laundry again! We love an apartment with in-unit laundry, if only because getting that many quarters together just to wash your clothes is such a bother.\\xa0\\xa0The bathroom has a cast iron porcelain Kohler tub and tiled tub surround and floor, as well as a six-drawer vanity with a wall-mounted mirror. Both the bedrooms are large enough for a queen size bed, a desk and a dresser, and have large, lighted closets, each with a deep, heavy-duty wood shelf. This apartment is not short on storage; that’s for sure. The carpet in this rental is a 60 oz. plush, which is not something you find in most student rentals. Energy-efficient thermopane windows come with Hunter Douglas metal mini blinds, and a high efficiency heat pump keeps utility costs low.\\xa0\\xa0Designated parking is available to rent on site for only $33 per month. Security deposit is $567 per bedroom. Sorry, no pets allowed.What’s the neighborhood like?Just off the corner of Fern and E State and around the corner from Mill Street, this apartment building is within sight of Court St, truly inside the uptown neighborhood. The neighborhood is close to all the bars and amenities of central Athens, as well as campus. And it’s also conveniently right next to our rental company’s office.3 words to describe this\\n\\n55 W Washington #1: Huge 1-Bedroom Apartment close to Court  Skip to main content  info@kleinpennyrentals.com740-594-6900      Main navigation    Housing   Detailed Search   Property List   Utilities   FAQ   Sample Lease   About Us   Contact Us   KP Educational Fund   Blog                                                 PreviousNext 55 W Washington St Apt 111.0  1–2Max occupancy2AvailableMay 2026Price$650 per bedroom per monthLeaseMay to MayIncludedWaterSewageGarbageNot includedElectricInternetAmenitiesCentral air conditioningDishwasherNew bathroomNew kitchenWasher and dryerIf any apartment can boast a beautiful view out of every window, it’s this one. Set into the forested hillside, this 1-bedroom, 1-bath apartment has a lot of space; it could be great for a single or a couple. The kitchen in this cool, quintessential Athens apartment has just recently been remodeled with new cabinets, a dishwasher, microwave, new counter tops, and a new sink and faucet.\\xa0\\xa0Featuring rustic white-painted brick walls that nod to the journey of the house, and Athens at-large, there’s enough room in the kitchen to put a large table and chairs. The bathroom, which features the same historic brick exterior, is large and includes built-in shelving.\\xa0\\xa0There is a washer and dryer in this amenity-packed one bedroom, and the living room and bedroom have new plush carpet. We also installed a super-efficient mini-split system provides heat and AC without causing your utilities to skyrocket.\\xa0\\xa0KPR pays water, sewer and garbage; tenant only pays electric. We do not charge extra for a second person – this 1-bedroom makes for a cozy, treehouse-style apartment for two. Security deposit is $650. Sorry no pets allowed.\\xa0What’s the neighborhood like?\\xa0Washington Street is an interesting place. Winding, partially one-way, filled with student rentals in historic homes surrounded by trees. This centrally-located apartment sits just behind Athens Middle School, so you’ve got a good bit of peace and quiet but still close access to the bars and campus.\\xa03 words to describe this neighborhood: quiet, central, quaint\\xa0What are these student rentals close to?\\xa0Close to campus, just up the hill from Union Street and 2 blocks West of Court Street, you’re within a block of:\\xa0Ciro: Italian restaurant/barSiam Thai: Thai and Southeast Asian restaurant\\xa0Smiling Skull Saloon: bar/music\\xa0Distance to Court St: .1 mi, 3 min walk\\xa0Distance to campus: .2 mi, 3 min walk Send e-mailPost to Facebook  Kleinpenny Rentals32 Fern', 'question': 'What are some 2 bedroom properties with one bathroom cheaper than 1200'}\n"
     ]
    },
    {
     "data": {
      "text/plain": [
       "'You can consider the following two-bedroom properties, each priced at $566 per bedroom per month, totaling $1132: \\n\\n1. [74 E State, Apt 6](https://kleinpennyrentals.com/74-e-state-apt-6) - Recently remodeled with new carpet and bathroom. \\n\\n2. [74 E State St, Apt 12](https://kleinpennyrentals.com/74-e-state-apt-12) - Features central air, a spacious kitchen, and in-unit laundry. \\n\\nThanks for asking!'"
      ]
     },
     "execution_count": 60,
     "metadata": {},
     "output_type": "execute_result"
    }
   ],
   "source": [
    "rag_chain.invoke(\"What are some 2 bedroom properties with one bathroom cheaper than 1200\")"
   ]
  },
  {
   "cell_type": "code",
   "execution_count": 54,
   "id": "cfe9096c-3a09-46f3-8062-94d4781c5d88",
   "metadata": {},
   "outputs": [
    {
     "ename": "TypeError",
     "evalue": "string indices must be integers",
     "output_type": "error",
     "traceback": [
      "\u001b[0;31m---------------------------------------------------------------------------\u001b[0m",
      "\u001b[0;31mTypeError\u001b[0m                                 Traceback (most recent call last)",
      "Cell \u001b[0;32mIn[54], line 1\u001b[0m\n\u001b[0;32m----> 1\u001b[0m \u001b[43mresponse\u001b[49m\u001b[43m[\u001b[49m\u001b[38;5;124;43m\"\u001b[39;49m\u001b[38;5;124;43mcontext\u001b[39;49m\u001b[38;5;124;43m\"\u001b[39;49m\u001b[43m]\u001b[49m\n",
      "\u001b[0;31mTypeError\u001b[0m: string indices must be integers"
     ]
    }
   ],
   "source": []
  },
  {
   "cell_type": "code",
   "execution_count": 55,
   "id": "4ba1df00-949c-420e-a60c-03cec90e1e19",
   "metadata": {},
   "outputs": [
    {
     "data": {
      "text/plain": [
       "Document(metadata={'source': 'https://kleinpennyrentals.com/athens-ohio-housing/12-n-congress-st-apt-7', 'title': '12 N Congress, Apt 7: 1 Bed Ohio University Rental in Athens', 'description': 'Featuring a completely redone kitchen and bathroom, this 1 bedroom apartment for rent is super close to campus and even closer to uptown Athens bars and shops.', 'language': 'en'}, page_content='12 N Congress, Apt 7: 1 Bed Ohio University Rental in Athens  Skip to main content  info@kleinpennyrentals.com740-594-6900      Main navigation    Housing   Detailed Search   Property List   Utilities   FAQ   Sample Lease   About Us   Contact Us   KP Educational Fund   Blog                                                       PreviousNext 12 N Congress St Apt 711.0  1–2Max occupancy2AvailableMay 2026Price$566 per bedroom per monthLeaseMay to MayIncludedWaterSewageGarbageNot includedElectricGasInternetAmenitiesCeramic tiled bathLarge closetLaundry roomNew bathroomThis\\xa0one bedroom off-campus apartment is at a great location just a half a block from Court St, and\\xa0very near to campus. Either one or two people can rent this cozy apartment. This unit has access to a laundry room down the hall on the same floor. The kitchen and bath have been recently remodeled, with tile floors in both rooms and a tile tub surround in the bathroom.\\xa0And this\\xa0student rental isn’t short on storage; the bedroom has a large closet, and there are two more closets in the apartment. Our\\xa0rental company pays the city utilities as well as gas to heat the hot water. Tenant pays electric, gas for the furnace and Wi-Fi. $567 security deposit.\\xa0Parking spaces are available to rent in a lot around the corner for $204 per semester. If you, or you and a partner, are looking for the perfect sanctuary that’s still\\xa0in the midst of the action uptown and just a short jaunt to campus, this apartment\\xa0is the perfect solution. Send e-mailPost to Facebook  Kleinpenny Rentals32 Fern St.Athens, OH 45701info@kleinpennyrentals.com740-594-6900Main navigation    Housing   Detailed Search   Property List   Utilities   FAQ   Sample Lease   About Us   Contact Us   KP Educational Fund   Blog  Check out our Google ReviewsWebsite designed by KosadaLease an Athens Two Bedroom Apartment that Makes Student Life Easy & FunWhether you’re a couple friends looking to live together, or a couple looking for an apartment with an extra room to study in, there are some great two bedroom apartments in Athens. Premiere Athens rental companies lease newly-renovated, well-kept, spacious units that don’t require long hikes to campus or the bars. And you don’t have to sacrifice amenities for proximity to uptown – there are two bedroom apartments with cool features like historic fireplaces and hardwood floors, AC, laundry, dishwashers, outdoor space, and more, right around the corner from Court St; you just have to talk to the right landlord to find them.Parents’ Guide to Ohio University Parents WeekendA Guide to the Top Rental Companies in AthensFive Bedroom Houses for Rent in Athens, OhioLuxury Rental Units with Bird’s-Eye Views of Court StreetWhy Rent an Apartment on East State StreetGuide to Move-in Day: Truck Rentals & Packing TipsFind the Best Luxury Apartments Off-Campus in Athens Uptown Rentals Offer the Best of Athens & OUChoosing the Right Athens Rental CompanyWhy Lease an Apartment Close to Ohio University’s CampusWhy Rent a One Bedroom Off-Campus Apartment at OUAn Easy Guide to Kleinpenny Rentals’ Sample LeaseLive in an Athens Apartment Near Ohio UniversityAthens Ohio 4 Bedroom Housing Luxury Apartments in Athens OhioWhy to Rent Court Street Apartments in Athens, OHAthens Ohio RentalsAthens Ohio 3 Bedroom HousingHouses Athens OhioGuide to Living in Off-Campus OU HousingAthens OU Parking Space RentalsAthens Ohio Uptown RentalsBest Rentals Close to OUOhio University RentalsRent Athens Ohio Housing With a YardUptown Athens Ohio Apartments Near BarsGuide to Choosing the Best Athens Ohio Rental Companies ')"
      ]
     },
     "execution_count": 55,
     "metadata": {},
     "output_type": "execute_result"
    }
   ],
   "source": [
    "docs[0]"
   ]
  },
  {
   "cell_type": "code",
   "execution_count": 65,
   "id": "e729d3b6-0774-474b-a7b2-52fb471066d2",
   "metadata": {},
   "outputs": [
    {
     "name": "stdout",
     "output_type": "stream",
     "text": [
      "{'context': '74 E State, Apt 6: 2 Beds, 1 Block to Uptown, New Bathroom  Skip to main content  info@kleinpennyrentals.com740-594-6900      Main navigation    Housing   Detailed Search   Property List   Utilities   FAQ   Sample Lease   About Us   Contact Us   KP Educational Fund   Blog                                                 PreviousNext 74 E State St Apt 621.0  2Max occupancy2AvailableMay 2026Price$566 per bedroom per monthLeaseMay to MayIncludedWaterSewageGarbageNot includedElectricInternetAmenitiesAir conditioningBalconyCeramic tiled bathDishwasherMicrowaveNew bathroomNew carpetNew ceramic tile kitchen floorParking AvailableWasher and dryerWe just redecorated this cool 2-bedroom apartment at our 74 E State rental building, painting the walls a dramatic red and the trim a crisp white. The carpet is new in the living room and adds to the overall cozy ambiance of this open floorplan. We also remodeled the bathroom. A super-efficient mini-split system provides heat and AC.\\xa0Owner pays water, sewage, and garbage. Tenant pays other utilities, there is no gas. Security deposit is $566 per bedroom. You’ll be hard-pressed to find another Athens rental company offering a remodeled apartment this close to uptown and campus at $566 per month. You can even rent parking on-site; parking is available on a first-come, first-serve basis for $50 per month. Sorry, no pets allowed.What’s the neighborhood like?\\xa0Just off the corner of Fern and E State and around the corner from Mill Street, this apartment building is within sight of Court St, truly inside the uptown neighborhood. The neighborhood is close to all the bars and amenities of central Athens, as well as campus. And it’s also conveniently right next to our rental company’s office.\\xa03 words to describe this neighborhood: central, social, convenient\\xa0What’s this student rental close to?\\xa0Living in this off-campus apartment, you’re not far from anything. Some of the closest amenities are:\\xa0Busy Day: market/beer and liquor store\\xa0Courtside Pizza: restaurant/bar\\xa0Athens Underground: vintage/thrift shop\\xa0Distance to Court St: .2 mi, 3 min walk\\xa0Distance to campus: .3 mi, 7 min walk Send e-mailPost to Facebook  Kleinpenny Rentals32 Fern St.Athens, OH 45701info@kleinpennyrentals.com740-594-6900Main navigation    Housing   Detailed Search   Property List   Utilities   FAQ   Sample Lease   About Us   Contact Us   KP Educational Fund   Blog  Check out our Google ReviewsWebsite designed by KosadaParents’ Guide to Ohio University Parents\\n\\n12 N Congress, Apt 7: 1 Bed Ohio University Rental in Athens  Skip to main content  info@kleinpennyrentals.com740-594-6900      Main navigation    Housing   Detailed Search   Property List   Utilities   FAQ   Sample Lease   About Us   Contact Us   KP Educational Fund   Blog                                                       PreviousNext 12 N Congress St Apt 711.0  1–2Max occupancy2AvailableMay 2026Price$566 per bedroom per monthLeaseMay to MayIncludedWaterSewageGarbageNot includedElectricGasInternetAmenitiesCeramic tiled bathLarge closetLaundry roomNew bathroomThis\\xa0one bedroom off-campus apartment is at a great location just a half a block from Court St, and\\xa0very near to campus. Either one or two people can rent this cozy apartment. This unit has access to a laundry room down the hall on the same floor. The kitchen and bath have been recently remodeled, with tile floors in both rooms and a tile tub surround in the bathroom.\\xa0And this\\xa0student rental isn’t short on storage; the bedroom has a large closet, and there are two more closets in the apartment. Our\\xa0rental company pays the city utilities as well as gas to heat the hot water. Tenant pays electric, gas for the furnace and Wi-Fi. $567 security deposit.\\xa0Parking spaces are available to rent in a lot around the corner for $204 per semester. If you, or you and a partner, are looking for the perfect sanctuary that’s still\\xa0in the midst of the action uptown and just a short jaunt to campus, this apartment\\xa0is the perfect solution. Send e-mailPost to Facebook  Kleinpenny Rentals32 Fern St.Athens, OH 45701info@kleinpennyrentals.com740-594-6900Main navigation    Housing   Detailed Search   Property List   Utilities   FAQ   Sample Lease   About Us   Contact Us   KP Educational Fund   Blog  Check out our Google ReviewsWebsite designed by KosadaLease an Athens Two Bedroom Apartment that Makes Student Life Easy & FunWhether you’re a couple friends looking to live together, or a couple looking for an apartment with an extra room to study in, there are some great two bedroom apartments in Athens. Premiere Athens rental companies lease newly-renovated, well-kept, spacious units that don’t require long hikes to campus or the bars. And you don’t have to sacrifice amenities for proximity to uptown – there are two bedroom apartments with cool features like historic fireplaces and hardwood floors, AC, laundry, dishwashers, outdoor space, and more, right around the corner from Court St; you just have to talk to the right\\n\\n74 E State St, Apt 12: 2 Bed Apartment near Uptown Athens, OH  Skip to main content  info@kleinpennyrentals.com740-594-6900      Main navigation    Housing   Detailed Search   Property List   Utilities   FAQ   Sample Lease   About Us   Contact Us   KP Educational Fund   Blog                                           PreviousNext 74 E State St Apt 1221.0  2Max occupancy2AvailableMay 2026Price$566 per bedroom per monthLeaseMay to MayNot includedWaterSewageGarbageElectricAmenitiesCentral air conditioningCeramic tiled bathDishwasherHunter Douglas metal mini blindsLarge closetNew ceramic tile kitchen floorNew kitchenParking AvailableWasher and dryerThis 2-bedroom luxury rental boasts a great location just a block from Court St and right around the corner from the Sunoco station. You’d be living right off of E State St on one side and steps from central uptown on the other. It’s the perfect location for someone whose classes are centered around South Green, and it’s got all the amenities you’d expect in quality OU housing.\\xa0This two-bedroom unit has central air, a spacious kitchen with lots of cabinet space, a breakfast bar island, a dishwasher, and a washer and dryer. That’s right – never leave the house to do your laundry again! We love an apartment with in-unit laundry, if only because getting that many quarters together just to wash your clothes is such a bother.\\xa0\\xa0The bathroom has a cast iron porcelain Kohler tub and tiled tub surround and floor, as well as a six-drawer vanity with a wall-mounted mirror. Both the bedrooms are large enough for a queen size bed, a desk and a dresser, and have large, lighted closets, each with a deep, heavy-duty wood shelf. This apartment is not short on storage; that’s for sure. The carpet in this rental is a 60 oz. plush, which is not something you find in most student rentals. Energy-efficient thermopane windows come with Hunter Douglas metal mini blinds, and a high efficiency heat pump keeps utility costs low.\\xa0\\xa0Designated parking is available to rent on site for only $33 per month. Security deposit is $567 per bedroom. Sorry, no pets allowed.What’s the neighborhood like?Just off the corner of Fern and E State and around the corner from Mill Street, this apartment building is within sight of Court St, truly inside the uptown neighborhood. The neighborhood is close to all the bars and amenities of central Athens, as well as campus. And it’s also conveniently right next to our rental company’s office.3 words to describe this\\n\\n55 W Washington #1: Huge 1-Bedroom Apartment close to Court  Skip to main content  info@kleinpennyrentals.com740-594-6900      Main navigation    Housing   Detailed Search   Property List   Utilities   FAQ   Sample Lease   About Us   Contact Us   KP Educational Fund   Blog                                                 PreviousNext 55 W Washington St Apt 111.0  1–2Max occupancy2AvailableMay 2026Price$650 per bedroom per monthLeaseMay to MayIncludedWaterSewageGarbageNot includedElectricInternetAmenitiesCentral air conditioningDishwasherNew bathroomNew kitchenWasher and dryerIf any apartment can boast a beautiful view out of every window, it’s this one. Set into the forested hillside, this 1-bedroom, 1-bath apartment has a lot of space; it could be great for a single or a couple. The kitchen in this cool, quintessential Athens apartment has just recently been remodeled with new cabinets, a dishwasher, microwave, new counter tops, and a new sink and faucet.\\xa0\\xa0Featuring rustic white-painted brick walls that nod to the journey of the house, and Athens at-large, there’s enough room in the kitchen to put a large table and chairs. The bathroom, which features the same historic brick exterior, is large and includes built-in shelving.\\xa0\\xa0There is a washer and dryer in this amenity-packed one bedroom, and the living room and bedroom have new plush carpet. We also installed a super-efficient mini-split system provides heat and AC without causing your utilities to skyrocket.\\xa0\\xa0KPR pays water, sewer and garbage; tenant only pays electric. We do not charge extra for a second person – this 1-bedroom makes for a cozy, treehouse-style apartment for two. Security deposit is $650. Sorry no pets allowed.\\xa0What’s the neighborhood like?\\xa0Washington Street is an interesting place. Winding, partially one-way, filled with student rentals in historic homes surrounded by trees. This centrally-located apartment sits just behind Athens Middle School, so you’ve got a good bit of peace and quiet but still close access to the bars and campus.\\xa03 words to describe this neighborhood: quiet, central, quaint\\xa0What are these student rentals close to?\\xa0Close to campus, just up the hill from Union Street and 2 blocks West of Court Street, you’re within a block of:\\xa0Ciro: Italian restaurant/barSiam Thai: Thai and Southeast Asian restaurant\\xa0Smiling Skull Saloon: bar/music\\xa0Distance to Court St: .1 mi, 3 min walk\\xa0Distance to campus: .2 mi, 3 min walk Send e-mailPost to Facebook  Kleinpenny Rentals32 Fern', 'question': 'What are some 2 bedroom properties with one bathroom cheaper than 1200'}\n"
     ]
    }
   ],
   "source": [
    "response = rag_chain.invoke(\"What are some 2 bedroom properties with one bathroom cheaper than 1200\")"
   ]
  },
  {
   "cell_type": "code",
   "execution_count": 13,
   "id": "8db98ab7-3377-40a7-b2b1-9600d88d84c2",
   "metadata": {},
   "outputs": [],
   "source": [
    "from langchain.chains import create_retrieval_chain\n",
    "from langchain.chains.combine_documents import create_stuff_documents_chain\n",
    "from langchain_core.prompts import ChatPromptTemplate\n",
    "\n",
    "system_prompt = (\n",
    "    \"You are given a list of documents (each associated with a property) and their associated descriptions, titles, and other information as context. \"\n",
    "    \"Use the following pieces of retrieved context to give properties that match the user's question.\"\n",
    "    \"If you don't know the answer, say that you \"\n",
    "    \"don't know. If you use any information from the context, list its metadata in your answer.\" \n",
    "    \"\"\n",
    "    \"\\n\\n\"\n",
    "    \"Context: {context}\"\n",
    ")\n",
    "\n",
    "prompt = ChatPromptTemplate.from_messages(\n",
    "    [\n",
    "        (\"system\", system_prompt),\n",
    "        (\"human\", \"{input}\"),\n",
    "    ]\n",
    ")\n",
    "\n",
    "\n",
    "question_answer_chain = create_stuff_documents_chain(llm, prompt)\n",
    "rag_chain = create_retrieval_chain(retriever, question_answer_chain)"
   ]
  },
  {
   "cell_type": "code",
   "execution_count": 16,
   "id": "9e80cc41-8da1-43a5-a26d-637fc1603416",
   "metadata": {},
   "outputs": [],
   "source": [
    "response = rag_chain.invoke({\"input\": \"Help me find an apartment with a cast-iron and porcelain Kohler tub\"})"
   ]
  },
  {
   "cell_type": "code",
   "execution_count": 85,
   "id": "69cffe0d-48db-4858-b25c-efaccc060317",
   "metadata": {},
   "outputs": [
    {
     "data": {
      "text/plain": [
       "Document(metadata={'description': 'Featuring a completely redone kitchen and bathroom, this 1 bedroom apartment for rent is super close to campus and even closer to uptown Athens bars and shops.', 'language': 'en', 'source': 'https://kleinpennyrentals.com/athens-ohio-housing/12-n-congress-st-apt-7', 'title': '12 N Congress, Apt 7: 1 Bed Ohio University Rental in Athens'}, page_content='12 N Congress, Apt 7: 1 Bed Ohio University Rental in Athens  Skip to main content  info@kleinpennyrentals.com740-594-6900      Main navigation    Housing   Detailed Search   Property List   Utilities   FAQ   Sample Lease   About Us   Contact Us   KP Educational Fund   Blog                                                       PreviousNext 12 N Congress St Apt 711.0  1–2Max occupancy2AvailableMay 2026Price$566 per bedroom per monthLeaseMay to MayIncludedWaterSewageGarbageNot includedElectricGasInternetAmenitiesCeramic tiled bathLarge closetLaundry roomNew bathroomThis\\xa0one bedroom off-campus apartment is at a great location just a half a block from Court St, and\\xa0very near to campus. Either one or two people can rent this cozy apartment. This unit has access to a laundry room down the hall on the same floor. The kitchen and bath have been recently remodeled, with tile floors in both rooms and a tile tub surround in the bathroom.\\xa0And this\\xa0student rental isn’t short on storage; the bedroom has a large closet, and there are two more closets in the apartment. Our\\xa0rental company pays the city utilities as well as gas to heat the hot water. Tenant pays electric, gas for the furnace and Wi-Fi. $567 security deposit.\\xa0Parking spaces are available to rent in a lot around the corner for $204 per semester. If you, or you and a partner, are looking for the perfect sanctuary that’s still\\xa0in the midst of the action uptown and just a short jaunt to campus, this apartment\\xa0is the perfect solution. Send e-mailPost to Facebook  Kleinpenny Rentals32 Fern St.Athens, OH 45701info@kleinpennyrentals.com740-594-6900Main navigation    Housing   Detailed Search   Property List   Utilities   FAQ   Sample Lease   About Us   Contact Us   KP Educational Fund   Blog  Check out our Google ReviewsWebsite designed by KosadaLease an Athens Two Bedroom Apartment that Makes Student Life Easy & FunWhether you’re a couple friends looking to live together, or a couple looking for an apartment with an extra room to study in, there are some great two bedroom apartments in Athens. Premiere Athens rental companies lease newly-renovated, well-kept, spacious units that don’t require long hikes to campus or the bars. And you don’t have to sacrifice amenities for proximity to uptown – there are two bedroom apartments with cool features like historic fireplaces and hardwood floors, AC, laundry, dishwashers, outdoor space, and more, right around the corner from Court St; you just have to talk to the right')"
      ]
     },
     "execution_count": 85,
     "metadata": {},
     "output_type": "execute_result"
    }
   ],
   "source": [
    "response[\"context\"][1]"
   ]
  },
  {
   "cell_type": "code",
   "execution_count": 17,
   "id": "9e4cadf0-68b4-4ae4-a4b6-5946d515ecad",
   "metadata": {},
   "outputs": [
    {
     "name": "stdout",
     "output_type": "stream",
     "text": [
      "I found a few apartments that feature a Kohler cast iron porcelain tub:\n",
      "\n",
      "1. **20 N Congress St Apt 2**: \n",
      "   - **Bedrooms**: 7\n",
      "   - **Bathrooms**: 7\n",
      "   - **Amenities**: Each bedroom has a private bathroom with a Kohler cast iron porcelain tub.\n",
      "   - **Available**: May 2026\n",
      "   - **Price**: $700 per bedroom per month\n",
      "   - **Lease**: May to May\n",
      "   - **Security Deposit**: $700 per person\n",
      "   - **Contact**: info@kleinpennyrentals.com, 740-594-6900\n",
      "\n",
      "2. **20 N Congress St Apt 5**: \n",
      "   - **Bedrooms**: 4\n",
      "   - **Bathrooms**: 4\n",
      "   - **Amenities**: Each bedroom has its own private bath featuring a Kohler cast iron porcelain tub.\n",
      "   - **Available**: May 2026\n",
      "   - **Price**: $700 per bedroom per month\n",
      "   - **Lease**: May to May\n",
      "   - **Security Deposit**: $700 per person\n",
      "   - **Contact**: info@kleinpennyrentals.com, 740-594-6900\n",
      "\n",
      "3. **20 N Congress St Apt 4**: \n",
      "   - **Bedrooms**: 4\n",
      "   - **Bathrooms**: 4\n",
      "   - **Amenities**: Each bedroom has a private bathroom with a Kohler cast iron porcelain tub.\n",
      "   - **Available**: May 2026\n",
      "   - **Price**: $700 per bedroom per month\n",
      "   - **Lease**: May to May\n",
      "   - **Security Deposit**: $700 per person\n",
      "   - **Contact**: info@kleinpennyrentals.com, 740-594-6900\n",
      "\n",
      "These properties are all located at 20 N Congress St and have the specific bathtub you are looking for. Let me know if you need more information!\n",
      "\n",
      "\n",
      "You can check out more related properties here: \n",
      "20 N Congress, Apt 2: 7 Bed, 7 Bath Rental in Uptown Athens: https://kleinpennyrentals.com/athens-ohio-housing/20-n-congress-st-apt-2\n",
      "20 N Congress, Apr 4: Best 3 Bed, 2 Bath Apartment in Athens: https://kleinpennyrentals.com/athens-ohio-housing/20-n-congress-st-apt-4\n",
      "20 N Congress, Apt 5: 4 Bed, 4 Bath Rental Close to OU: https://kleinpennyrentals.com/athens-ohio-housing/20-n-congress-st-apt-5\n",
      "20 N Congress, Apt 4: 5 Bed, 5 Bath Luxury Uptown OU Apt: https://kleinpennyrentals.com/athens-ohio-housing/20-n-congress-st-apt-7\n"
     ]
    }
   ],
   "source": [
    "print(response[\"answer\"])\n",
    "# response[\"context\"][0]\n",
    "print(\"\\n\\nYou can check out more related properties here: \")\n",
    "for found in response[\"context\"]:\n",
    "    print(found.metadata[\"title\"] + \": \" + found.metadata[\"source\"])"
   ]
  },
  {
   "cell_type": "code",
   "execution_count": null,
   "id": "19f45429-6e71-4b84-af72-6e0dafebde71",
   "metadata": {},
   "outputs": [],
   "source": []
  },
  {
   "cell_type": "code",
   "execution_count": null,
   "id": "8cb6f059-cdb6-4fcf-8300-b15e3387b888",
   "metadata": {},
   "outputs": [],
   "source": []
  }
 ],
 "metadata": {
  "kernelspec": {
   "display_name": "Python 3 (ipykernel)",
   "language": "python",
   "name": "python3"
  },
  "language_info": {
   "codemirror_mode": {
    "name": "ipython",
    "version": 3
   },
   "file_extension": ".py",
   "mimetype": "text/x-python",
   "name": "python",
   "nbconvert_exporter": "python",
   "pygments_lexer": "ipython3",
   "version": "3.9.5"
  }
 },
 "nbformat": 4,
 "nbformat_minor": 5
}
